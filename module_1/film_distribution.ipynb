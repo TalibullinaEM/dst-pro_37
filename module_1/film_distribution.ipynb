{
 "cells": [
  {
   "cell_type": "code",
   "execution_count": 31,
   "metadata": {
    "_cell_guid": "b1076dfc-b9ad-4769-8c92-a6c4dae69d19",
    "_uuid": "8f2839f25d086af736a60e9eeb907d3b93b6e0e5",
    "colab": {},
    "colab_type": "code",
    "id": "U2D2gTdJVp90"
   },
   "outputs": [],
   "source": [
    "import numpy as np\n",
    "import pandas as pd\n",
    "import seaborn as sns\n",
    "import matplotlib.pyplot as plt\n",
    "from collections import Counter\n",
    "from ast import literal_eval\n",
    "from itertools import chain\n",
    "from itertools import combinations"
   ]
  },
  {
   "cell_type": "code",
   "execution_count": 32,
   "metadata": {
    "_cell_guid": "79c7e3d0-c299-4dcb-8224-4455121ee9b0",
    "_uuid": "d629ff2d2480ee46fbb7e2d37f6b5fab8052498a",
    "colab": {},
    "colab_type": "code",
    "collapsed": true,
    "id": "oyGfxL3eVp9-"
   },
   "outputs": [
    {
     "data": {
      "text/html": [
       "<div>\n",
       "<style scoped>\n",
       "    .dataframe tbody tr th:only-of-type {\n",
       "        vertical-align: middle;\n",
       "    }\n",
       "\n",
       "    .dataframe tbody tr th {\n",
       "        vertical-align: top;\n",
       "    }\n",
       "\n",
       "    .dataframe thead th {\n",
       "        text-align: right;\n",
       "    }\n",
       "</style>\n",
       "<table border=\"1\" class=\"dataframe\">\n",
       "  <thead>\n",
       "    <tr style=\"text-align: right;\">\n",
       "      <th></th>\n",
       "      <th>imdb_id</th>\n",
       "      <th>budget</th>\n",
       "      <th>revenue</th>\n",
       "      <th>original_title</th>\n",
       "      <th>cast</th>\n",
       "      <th>director</th>\n",
       "      <th>tagline</th>\n",
       "      <th>overview</th>\n",
       "      <th>runtime</th>\n",
       "      <th>genres</th>\n",
       "      <th>production_companies</th>\n",
       "      <th>release_date</th>\n",
       "      <th>vote_average</th>\n",
       "      <th>release_year</th>\n",
       "      <th>profit</th>\n",
       "    </tr>\n",
       "  </thead>\n",
       "  <tbody>\n",
       "    <tr>\n",
       "      <th>1085</th>\n",
       "      <td>tt0242653</td>\n",
       "      <td>150000000</td>\n",
       "      <td>424988211</td>\n",
       "      <td>The Matrix Revolutions</td>\n",
       "      <td>Keanu Reeves|Laurence Fishburne|Carrie-Anne Mo...</td>\n",
       "      <td>Lilly Wachowski|Lana Wachowski</td>\n",
       "      <td>Everything that has a beginning has an end.</td>\n",
       "      <td>The human city of Zion defends itself against ...</td>\n",
       "      <td>129</td>\n",
       "      <td>Adventure|Action|Thriller|Science Fiction</td>\n",
       "      <td>Village Roadshow Pictures|NPV Entertainment|Si...</td>\n",
       "      <td>11/5/2003</td>\n",
       "      <td>6.4</td>\n",
       "      <td>2003</td>\n",
       "      <td>274988211</td>\n",
       "    </tr>\n",
       "    <tr>\n",
       "      <th>791</th>\n",
       "      <td>tt1265990</td>\n",
       "      <td>16000000</td>\n",
       "      <td>40492759</td>\n",
       "      <td>The Roommate</td>\n",
       "      <td>Minka Kelly|Leighton Meester|Cam Gigandet|Aly ...</td>\n",
       "      <td>Christian E. Christiansen</td>\n",
       "      <td>2,000 colleges. 8 million roommates. Which one...</td>\n",
       "      <td>When Sara (Minka Kelly), a young design studen...</td>\n",
       "      <td>91</td>\n",
       "      <td>Thriller|Drama|Horror</td>\n",
       "      <td>Vertigo Entertainment|Screen Gems</td>\n",
       "      <td>2/4/2011</td>\n",
       "      <td>5.5</td>\n",
       "      <td>2011</td>\n",
       "      <td>24492759</td>\n",
       "    </tr>\n",
       "    <tr>\n",
       "      <th>342</th>\n",
       "      <td>tt0775552</td>\n",
       "      <td>45000000</td>\n",
       "      <td>57881056</td>\n",
       "      <td>Aliens in the Attic</td>\n",
       "      <td>Carter Jenkins|Austin Butler|Kevin Nealon|Robe...</td>\n",
       "      <td>John Schultz</td>\n",
       "      <td>The aliens vs. the Pearsons</td>\n",
       "      <td>It's summer vacation, but the Pearson family k...</td>\n",
       "      <td>86</td>\n",
       "      <td>Adventure|Comedy|Family|Fantasy|Science Fiction</td>\n",
       "      <td>Twentieth Century Fox Film Corporation|Regency...</td>\n",
       "      <td>7/31/2009</td>\n",
       "      <td>5.1</td>\n",
       "      <td>2009</td>\n",
       "      <td>12881056</td>\n",
       "    </tr>\n",
       "    <tr>\n",
       "      <th>1028</th>\n",
       "      <td>tt1524137</td>\n",
       "      <td>25000000</td>\n",
       "      <td>63100000</td>\n",
       "      <td>Contraband</td>\n",
       "      <td>Mark Wahlberg|Kate Beckinsale|Ben Foster|Giova...</td>\n",
       "      <td>Baltasar KormÃ¡kur</td>\n",
       "      <td>What would you hide to protect your family?</td>\n",
       "      <td>When his brother-in-law runs afoul of a drug l...</td>\n",
       "      <td>109</td>\n",
       "      <td>Thriller|Action|Drama|Crime</td>\n",
       "      <td>Universal Pictures|StudioCanal|Relativity Medi...</td>\n",
       "      <td>1/12/2012</td>\n",
       "      <td>6.1</td>\n",
       "      <td>2012</td>\n",
       "      <td>38100000</td>\n",
       "    </tr>\n",
       "    <tr>\n",
       "      <th>1222</th>\n",
       "      <td>tt2191701</td>\n",
       "      <td>80000000</td>\n",
       "      <td>246984278</td>\n",
       "      <td>Grown Ups 2</td>\n",
       "      <td>Adam Sandler|Kevin James|Chris Rock|David Spad...</td>\n",
       "      <td>Dennis Dugan</td>\n",
       "      <td>Just because they're a little older doesn't me...</td>\n",
       "      <td>The all-star comedy cast from Grown Ups return...</td>\n",
       "      <td>100</td>\n",
       "      <td>Comedy</td>\n",
       "      <td>Columbia Pictures|Happy Madison Productions|So...</td>\n",
       "      <td>7/11/2013</td>\n",
       "      <td>5.9</td>\n",
       "      <td>2013</td>\n",
       "      <td>166984278</td>\n",
       "    </tr>\n",
       "    <tr>\n",
       "      <th>443</th>\n",
       "      <td>tt1414382</td>\n",
       "      <td>20000000</td>\n",
       "      <td>32005248</td>\n",
       "      <td>You Again</td>\n",
       "      <td>Kristen Bell|Sigourney Weaver|Betty White|Kris...</td>\n",
       "      <td>Andy Fickman</td>\n",
       "      <td>What doesn't kill you... is going to marry you...</td>\n",
       "      <td>History -- make that high school -- may repeat...</td>\n",
       "      <td>105</td>\n",
       "      <td>Comedy|Romance</td>\n",
       "      <td>Oops Doughnuts Productions|Touchstone Pictures...</td>\n",
       "      <td>9/24/2010</td>\n",
       "      <td>6.0</td>\n",
       "      <td>2010</td>\n",
       "      <td>12005248</td>\n",
       "    </tr>\n",
       "    <tr>\n",
       "      <th>746</th>\n",
       "      <td>tt1478338</td>\n",
       "      <td>32500000</td>\n",
       "      <td>288383523</td>\n",
       "      <td>Bridesmaids</td>\n",
       "      <td>Kristen Wiig|Rose Byrne|Maya Rudolph|Wendi McL...</td>\n",
       "      <td>Paul Feig</td>\n",
       "      <td>Save the date</td>\n",
       "      <td>Annieâ€™s life is a mess. But when she finds o...</td>\n",
       "      <td>125</td>\n",
       "      <td>Romance|Comedy</td>\n",
       "      <td>Universal Pictures|Relativity Media|Apatow Pro...</td>\n",
       "      <td>4/28/2011</td>\n",
       "      <td>6.5</td>\n",
       "      <td>2011</td>\n",
       "      <td>255883523</td>\n",
       "    </tr>\n",
       "    <tr>\n",
       "      <th>1646</th>\n",
       "      <td>tt0362270</td>\n",
       "      <td>50000000</td>\n",
       "      <td>34808403</td>\n",
       "      <td>The Life Aquatic with Steve Zissou</td>\n",
       "      <td>Bill Murray|Anjelica Huston|Cate Blanchett|Wil...</td>\n",
       "      <td>Wes Anderson</td>\n",
       "      <td>The deeper you go, the weirder life gets.</td>\n",
       "      <td>Wes Andersonâ€™s incisive quirky comedy build ...</td>\n",
       "      <td>119</td>\n",
       "      <td>Adventure|Comedy|Drama</td>\n",
       "      <td>Touchstone Pictures</td>\n",
       "      <td>12/10/2004</td>\n",
       "      <td>7.0</td>\n",
       "      <td>2004</td>\n",
       "      <td>-15191597</td>\n",
       "    </tr>\n",
       "    <tr>\n",
       "      <th>1113</th>\n",
       "      <td>tt0298814</td>\n",
       "      <td>60000000</td>\n",
       "      <td>74208267</td>\n",
       "      <td>The Core</td>\n",
       "      <td>Aaron Eckhart|Hilary Swank|Delroy Lindo|Stanle...</td>\n",
       "      <td>Jon Amiel</td>\n",
       "      <td>Earth has a deadline.</td>\n",
       "      <td>Geophysicist Dr. Josh Keyes discovers that an ...</td>\n",
       "      <td>136</td>\n",
       "      <td>Action|Thriller|Adventure|Science Fiction</td>\n",
       "      <td>Paramount Pictures|David Foster Productions|Ho...</td>\n",
       "      <td>3/28/2003</td>\n",
       "      <td>5.3</td>\n",
       "      <td>2003</td>\n",
       "      <td>14208267</td>\n",
       "    </tr>\n",
       "    <tr>\n",
       "      <th>929</th>\n",
       "      <td>tt0293815</td>\n",
       "      <td>20000000</td>\n",
       "      <td>33526835</td>\n",
       "      <td>Friday After Next</td>\n",
       "      <td>Ice Cube|Mike Epps|John Witherspoon|Don Curry|...</td>\n",
       "      <td>Marcus Raboy</td>\n",
       "      <td>The party's back in the 'hood!</td>\n",
       "      <td>Craig and Day Day have finally moved out of th...</td>\n",
       "      <td>85</td>\n",
       "      <td>Comedy|Drama</td>\n",
       "      <td>New Line Cinema</td>\n",
       "      <td>11/22/2002</td>\n",
       "      <td>6.5</td>\n",
       "      <td>2002</td>\n",
       "      <td>13526835</td>\n",
       "    </tr>\n",
       "    <tr>\n",
       "      <th>1881</th>\n",
       "      <td>tt0213790</td>\n",
       "      <td>24000000</td>\n",
       "      <td>13700000</td>\n",
       "      <td>The Ladies Man</td>\n",
       "      <td>Tim Meadows|Karyn Parsons|Billy Dee Williams|J...</td>\n",
       "      <td>Reginald Hudlin</td>\n",
       "      <td>He's cool. He's clean. He's a love machine.</td>\n",
       "      <td>Because of his salacious language, late-night ...</td>\n",
       "      <td>84</td>\n",
       "      <td>Comedy</td>\n",
       "      <td>SNL Studios</td>\n",
       "      <td>10/13/2000</td>\n",
       "      <td>5.4</td>\n",
       "      <td>2000</td>\n",
       "      <td>-10300000</td>\n",
       "    </tr>\n",
       "    <tr>\n",
       "      <th>1061</th>\n",
       "      <td>tt1598828</td>\n",
       "      <td>40000000</td>\n",
       "      <td>36893721</td>\n",
       "      <td>One for the Money</td>\n",
       "      <td>Katherine Heigl|John Leguizamo|Debbie Reynolds...</td>\n",
       "      <td>Julie Anne Robinson</td>\n",
       "      <td>She's looking for a few not-so-good men</td>\n",
       "      <td>Stephanie Plum (Katherine Heigl), an unemploye...</td>\n",
       "      <td>91</td>\n",
       "      <td>Action|Comedy|Thriller|Crime|Romance</td>\n",
       "      <td>Lakeshore Entertainment|Sidney Kimmel Entertai...</td>\n",
       "      <td>1/26/2012</td>\n",
       "      <td>5.2</td>\n",
       "      <td>2012</td>\n",
       "      <td>-3106279</td>\n",
       "    </tr>\n",
       "    <tr>\n",
       "      <th>692</th>\n",
       "      <td>tt0396707</td>\n",
       "      <td>12000000</td>\n",
       "      <td>7070330</td>\n",
       "      <td>The Secret of Moonacre</td>\n",
       "      <td>Ioan Gruffudd|Dakota Blue Richards|Tim Curry|A...</td>\n",
       "      <td>GÃ¡bor CsupÃ³</td>\n",
       "      <td>A Magical Journey Begins.</td>\n",
       "      <td>When 13 year old Maria Merryweather's father d...</td>\n",
       "      <td>103</td>\n",
       "      <td>Adventure|Fantasy|Drama|Science Fiction|Romance</td>\n",
       "      <td>South Pacific Pictures|Metropolitan Filmexport...</td>\n",
       "      <td>9/6/2008</td>\n",
       "      <td>5.7</td>\n",
       "      <td>2008</td>\n",
       "      <td>-4929670</td>\n",
       "    </tr>\n",
       "    <tr>\n",
       "      <th>1452</th>\n",
       "      <td>tt0327084</td>\n",
       "      <td>80000000</td>\n",
       "      <td>155019340</td>\n",
       "      <td>Over the Hedge</td>\n",
       "      <td>Bruce Willis|Garry Shandling|Steve Carell|Wand...</td>\n",
       "      <td>Tim Johnson|Karey Kirkpatrick</td>\n",
       "      <td>Taking back the neighborhood... One snack at a...</td>\n",
       "      <td>A scheming raccoon fools a mismatched family o...</td>\n",
       "      <td>83</td>\n",
       "      <td>Comedy|Animation|Family</td>\n",
       "      <td>Pacific Data Images (PDI)|DreamWorks Animation</td>\n",
       "      <td>4/22/2006</td>\n",
       "      <td>6.2</td>\n",
       "      <td>2006</td>\n",
       "      <td>75019340</td>\n",
       "    </tr>\n",
       "    <tr>\n",
       "      <th>1674</th>\n",
       "      <td>tt0480249</td>\n",
       "      <td>150000000</td>\n",
       "      <td>585349010</td>\n",
       "      <td>I Am Legend</td>\n",
       "      <td>Will Smith|Alice Braga|Charlie Tahan|Salli Ric...</td>\n",
       "      <td>Francis Lawrence</td>\n",
       "      <td>The last man on Earth is not alone</td>\n",
       "      <td>Robert Neville is a scientist who was unable t...</td>\n",
       "      <td>101</td>\n",
       "      <td>Drama|Horror|Action|Thriller|Science Fiction</td>\n",
       "      <td>Village Roadshow Pictures|Original Film|Weed R...</td>\n",
       "      <td>12/14/2007</td>\n",
       "      <td>6.8</td>\n",
       "      <td>2007</td>\n",
       "      <td>435349010</td>\n",
       "    </tr>\n",
       "    <tr>\n",
       "      <th>1551</th>\n",
       "      <td>tt0421206</td>\n",
       "      <td>30000000</td>\n",
       "      <td>41480851</td>\n",
       "      <td>Gridiron Gang</td>\n",
       "      <td>Dwayne Johnson|Xzibit|L. Scott Caldwell|Leon R...</td>\n",
       "      <td>Phil Joanou</td>\n",
       "      <td>One goal. A second chance.</td>\n",
       "      <td>Teenagers at a juvenile detention center, unde...</td>\n",
       "      <td>125</td>\n",
       "      <td>Action|Adventure|Crime|Drama</td>\n",
       "      <td>Columbia Pictures</td>\n",
       "      <td>9/15/2006</td>\n",
       "      <td>6.5</td>\n",
       "      <td>2006</td>\n",
       "      <td>11480851</td>\n",
       "    </tr>\n",
       "    <tr>\n",
       "      <th>1322</th>\n",
       "      <td>tt0120667</td>\n",
       "      <td>100000000</td>\n",
       "      <td>330579719</td>\n",
       "      <td>Fantastic Four</td>\n",
       "      <td>Ioan Gruffudd|Jessica Alba|Chris Evans|Michael...</td>\n",
       "      <td>Tim Story</td>\n",
       "      <td>4 times the action. 4 times the adventure. 4 t...</td>\n",
       "      <td>During a space voyage, four scientists are alt...</td>\n",
       "      <td>106</td>\n",
       "      <td>Action|Adventure|Fantasy|Science Fiction</td>\n",
       "      <td>Twentieth Century Fox Film Corporation|1492 Pi...</td>\n",
       "      <td>7/7/2005</td>\n",
       "      <td>5.6</td>\n",
       "      <td>2005</td>\n",
       "      <td>230579719</td>\n",
       "    </tr>\n",
       "    <tr>\n",
       "      <th>1507</th>\n",
       "      <td>tt0405296</td>\n",
       "      <td>8500000</td>\n",
       "      <td>5480996</td>\n",
       "      <td>A Scanner Darkly</td>\n",
       "      <td>Keanu Reeves|Winona Ryder|Woody Harrelson|Robe...</td>\n",
       "      <td>Richard Linklater</td>\n",
       "      <td>Everything Is Not Going To Be OK</td>\n",
       "      <td>An undercover cop in a not-too-distant future ...</td>\n",
       "      <td>100</td>\n",
       "      <td>Animation|Science Fiction|Thriller</td>\n",
       "      <td>Thousand Words|Warner Independent Pictures (WI...</td>\n",
       "      <td>5/25/2006</td>\n",
       "      <td>6.7</td>\n",
       "      <td>2006</td>\n",
       "      <td>-3019004</td>\n",
       "    </tr>\n",
       "    <tr>\n",
       "      <th>882</th>\n",
       "      <td>tt0217505</td>\n",
       "      <td>100000000</td>\n",
       "      <td>193772504</td>\n",
       "      <td>Gangs of New York</td>\n",
       "      <td>Leonardo DiCaprio|Daniel Day-Lewis|Cameron Dia...</td>\n",
       "      <td>Martin Scorsese</td>\n",
       "      <td>America Was Born In The Streets.</td>\n",
       "      <td>1863. America was born in the streets. Amsterd...</td>\n",
       "      <td>167</td>\n",
       "      <td>Drama|History|Crime</td>\n",
       "      <td>Miramax Films|Initial Entertainment Group (IEG...</td>\n",
       "      <td>12/14/2002</td>\n",
       "      <td>6.9</td>\n",
       "      <td>2002</td>\n",
       "      <td>93772504</td>\n",
       "    </tr>\n",
       "    <tr>\n",
       "      <th>428</th>\n",
       "      <td>tt1270761</td>\n",
       "      <td>25000000</td>\n",
       "      <td>36993168</td>\n",
       "      <td>Don't Be Afraid of the Dark</td>\n",
       "      <td>Katie Holmes|Guy Pearce|Bailee Madison|Alan Da...</td>\n",
       "      <td>Troy Nixey</td>\n",
       "      <td>Fear is never just make believe</td>\n",
       "      <td>A young girl sent to live with her father and ...</td>\n",
       "      <td>99</td>\n",
       "      <td>Fantasy|Horror|Thriller</td>\n",
       "      <td>Miramax Films|Gran Via Productions|FilmDistric...</td>\n",
       "      <td>11/6/2010</td>\n",
       "      <td>5.4</td>\n",
       "      <td>2010</td>\n",
       "      <td>11993168</td>\n",
       "    </tr>\n",
       "  </tbody>\n",
       "</table>\n",
       "</div>"
      ],
      "text/plain": [
       "        imdb_id     budget    revenue                      original_title  \\\n",
       "1085  tt0242653  150000000  424988211              The Matrix Revolutions   \n",
       "791   tt1265990   16000000   40492759                        The Roommate   \n",
       "342   tt0775552   45000000   57881056                 Aliens in the Attic   \n",
       "1028  tt1524137   25000000   63100000                          Contraband   \n",
       "1222  tt2191701   80000000  246984278                         Grown Ups 2   \n",
       "443   tt1414382   20000000   32005248                           You Again   \n",
       "746   tt1478338   32500000  288383523                         Bridesmaids   \n",
       "1646  tt0362270   50000000   34808403  The Life Aquatic with Steve Zissou   \n",
       "1113  tt0298814   60000000   74208267                            The Core   \n",
       "929   tt0293815   20000000   33526835                   Friday After Next   \n",
       "1881  tt0213790   24000000   13700000                      The Ladies Man   \n",
       "1061  tt1598828   40000000   36893721                   One for the Money   \n",
       "692   tt0396707   12000000    7070330              The Secret of Moonacre   \n",
       "1452  tt0327084   80000000  155019340                      Over the Hedge   \n",
       "1674  tt0480249  150000000  585349010                         I Am Legend   \n",
       "1551  tt0421206   30000000   41480851                       Gridiron Gang   \n",
       "1322  tt0120667  100000000  330579719                      Fantastic Four   \n",
       "1507  tt0405296    8500000    5480996                    A Scanner Darkly   \n",
       "882   tt0217505  100000000  193772504                   Gangs of New York   \n",
       "428   tt1270761   25000000   36993168         Don't Be Afraid of the Dark   \n",
       "\n",
       "                                                   cast  \\\n",
       "1085  Keanu Reeves|Laurence Fishburne|Carrie-Anne Mo...   \n",
       "791   Minka Kelly|Leighton Meester|Cam Gigandet|Aly ...   \n",
       "342   Carter Jenkins|Austin Butler|Kevin Nealon|Robe...   \n",
       "1028  Mark Wahlberg|Kate Beckinsale|Ben Foster|Giova...   \n",
       "1222  Adam Sandler|Kevin James|Chris Rock|David Spad...   \n",
       "443   Kristen Bell|Sigourney Weaver|Betty White|Kris...   \n",
       "746   Kristen Wiig|Rose Byrne|Maya Rudolph|Wendi McL...   \n",
       "1646  Bill Murray|Anjelica Huston|Cate Blanchett|Wil...   \n",
       "1113  Aaron Eckhart|Hilary Swank|Delroy Lindo|Stanle...   \n",
       "929   Ice Cube|Mike Epps|John Witherspoon|Don Curry|...   \n",
       "1881  Tim Meadows|Karyn Parsons|Billy Dee Williams|J...   \n",
       "1061  Katherine Heigl|John Leguizamo|Debbie Reynolds...   \n",
       "692   Ioan Gruffudd|Dakota Blue Richards|Tim Curry|A...   \n",
       "1452  Bruce Willis|Garry Shandling|Steve Carell|Wand...   \n",
       "1674  Will Smith|Alice Braga|Charlie Tahan|Salli Ric...   \n",
       "1551  Dwayne Johnson|Xzibit|L. Scott Caldwell|Leon R...   \n",
       "1322  Ioan Gruffudd|Jessica Alba|Chris Evans|Michael...   \n",
       "1507  Keanu Reeves|Winona Ryder|Woody Harrelson|Robe...   \n",
       "882   Leonardo DiCaprio|Daniel Day-Lewis|Cameron Dia...   \n",
       "428   Katie Holmes|Guy Pearce|Bailee Madison|Alan Da...   \n",
       "\n",
       "                            director  \\\n",
       "1085  Lilly Wachowski|Lana Wachowski   \n",
       "791        Christian E. Christiansen   \n",
       "342                     John Schultz   \n",
       "1028              Baltasar KormÃ¡kur   \n",
       "1222                    Dennis Dugan   \n",
       "443                     Andy Fickman   \n",
       "746                        Paul Feig   \n",
       "1646                    Wes Anderson   \n",
       "1113                       Jon Amiel   \n",
       "929                     Marcus Raboy   \n",
       "1881                 Reginald Hudlin   \n",
       "1061             Julie Anne Robinson   \n",
       "692                    GÃ¡bor CsupÃ³   \n",
       "1452   Tim Johnson|Karey Kirkpatrick   \n",
       "1674                Francis Lawrence   \n",
       "1551                     Phil Joanou   \n",
       "1322                       Tim Story   \n",
       "1507               Richard Linklater   \n",
       "882                  Martin Scorsese   \n",
       "428                       Troy Nixey   \n",
       "\n",
       "                                                tagline  \\\n",
       "1085        Everything that has a beginning has an end.   \n",
       "791   2,000 colleges. 8 million roommates. Which one...   \n",
       "342                         The aliens vs. the Pearsons   \n",
       "1028        What would you hide to protect your family?   \n",
       "1222  Just because they're a little older doesn't me...   \n",
       "443   What doesn't kill you... is going to marry you...   \n",
       "746                                       Save the date   \n",
       "1646          The deeper you go, the weirder life gets.   \n",
       "1113                              Earth has a deadline.   \n",
       "929                      The party's back in the 'hood!   \n",
       "1881        He's cool. He's clean. He's a love machine.   \n",
       "1061            She's looking for a few not-so-good men   \n",
       "692                           A Magical Journey Begins.   \n",
       "1452  Taking back the neighborhood... One snack at a...   \n",
       "1674                 The last man on Earth is not alone   \n",
       "1551                         One goal. A second chance.   \n",
       "1322  4 times the action. 4 times the adventure. 4 t...   \n",
       "1507                   Everything Is Not Going To Be OK   \n",
       "882                    America Was Born In The Streets.   \n",
       "428                     Fear is never just make believe   \n",
       "\n",
       "                                               overview  runtime  \\\n",
       "1085  The human city of Zion defends itself against ...      129   \n",
       "791   When Sara (Minka Kelly), a young design studen...       91   \n",
       "342   It's summer vacation, but the Pearson family k...       86   \n",
       "1028  When his brother-in-law runs afoul of a drug l...      109   \n",
       "1222  The all-star comedy cast from Grown Ups return...      100   \n",
       "443   History -- make that high school -- may repeat...      105   \n",
       "746   Annieâ€™s life is a mess. But when she finds o...      125   \n",
       "1646  Wes Andersonâ€™s incisive quirky comedy build ...      119   \n",
       "1113  Geophysicist Dr. Josh Keyes discovers that an ...      136   \n",
       "929   Craig and Day Day have finally moved out of th...       85   \n",
       "1881  Because of his salacious language, late-night ...       84   \n",
       "1061  Stephanie Plum (Katherine Heigl), an unemploye...       91   \n",
       "692   When 13 year old Maria Merryweather's father d...      103   \n",
       "1452  A scheming raccoon fools a mismatched family o...       83   \n",
       "1674  Robert Neville is a scientist who was unable t...      101   \n",
       "1551  Teenagers at a juvenile detention center, unde...      125   \n",
       "1322  During a space voyage, four scientists are alt...      106   \n",
       "1507  An undercover cop in a not-too-distant future ...      100   \n",
       "882   1863. America was born in the streets. Amsterd...      167   \n",
       "428   A young girl sent to live with her father and ...       99   \n",
       "\n",
       "                                               genres  \\\n",
       "1085        Adventure|Action|Thriller|Science Fiction   \n",
       "791                             Thriller|Drama|Horror   \n",
       "342   Adventure|Comedy|Family|Fantasy|Science Fiction   \n",
       "1028                      Thriller|Action|Drama|Crime   \n",
       "1222                                           Comedy   \n",
       "443                                    Comedy|Romance   \n",
       "746                                    Romance|Comedy   \n",
       "1646                           Adventure|Comedy|Drama   \n",
       "1113        Action|Thriller|Adventure|Science Fiction   \n",
       "929                                      Comedy|Drama   \n",
       "1881                                           Comedy   \n",
       "1061             Action|Comedy|Thriller|Crime|Romance   \n",
       "692   Adventure|Fantasy|Drama|Science Fiction|Romance   \n",
       "1452                          Comedy|Animation|Family   \n",
       "1674     Drama|Horror|Action|Thriller|Science Fiction   \n",
       "1551                     Action|Adventure|Crime|Drama   \n",
       "1322         Action|Adventure|Fantasy|Science Fiction   \n",
       "1507               Animation|Science Fiction|Thriller   \n",
       "882                               Drama|History|Crime   \n",
       "428                           Fantasy|Horror|Thriller   \n",
       "\n",
       "                                   production_companies release_date  \\\n",
       "1085  Village Roadshow Pictures|NPV Entertainment|Si...    11/5/2003   \n",
       "791                   Vertigo Entertainment|Screen Gems     2/4/2011   \n",
       "342   Twentieth Century Fox Film Corporation|Regency...    7/31/2009   \n",
       "1028  Universal Pictures|StudioCanal|Relativity Medi...    1/12/2012   \n",
       "1222  Columbia Pictures|Happy Madison Productions|So...    7/11/2013   \n",
       "443   Oops Doughnuts Productions|Touchstone Pictures...    9/24/2010   \n",
       "746   Universal Pictures|Relativity Media|Apatow Pro...    4/28/2011   \n",
       "1646                                Touchstone Pictures   12/10/2004   \n",
       "1113  Paramount Pictures|David Foster Productions|Ho...    3/28/2003   \n",
       "929                                     New Line Cinema   11/22/2002   \n",
       "1881                                        SNL Studios   10/13/2000   \n",
       "1061  Lakeshore Entertainment|Sidney Kimmel Entertai...    1/26/2012   \n",
       "692   South Pacific Pictures|Metropolitan Filmexport...     9/6/2008   \n",
       "1452     Pacific Data Images (PDI)|DreamWorks Animation    4/22/2006   \n",
       "1674  Village Roadshow Pictures|Original Film|Weed R...   12/14/2007   \n",
       "1551                                  Columbia Pictures    9/15/2006   \n",
       "1322  Twentieth Century Fox Film Corporation|1492 Pi...     7/7/2005   \n",
       "1507  Thousand Words|Warner Independent Pictures (WI...    5/25/2006   \n",
       "882   Miramax Films|Initial Entertainment Group (IEG...   12/14/2002   \n",
       "428   Miramax Films|Gran Via Productions|FilmDistric...    11/6/2010   \n",
       "\n",
       "      vote_average  release_year     profit  \n",
       "1085           6.4          2003  274988211  \n",
       "791            5.5          2011   24492759  \n",
       "342            5.1          2009   12881056  \n",
       "1028           6.1          2012   38100000  \n",
       "1222           5.9          2013  166984278  \n",
       "443            6.0          2010   12005248  \n",
       "746            6.5          2011  255883523  \n",
       "1646           7.0          2004  -15191597  \n",
       "1113           5.3          2003   14208267  \n",
       "929            6.5          2002   13526835  \n",
       "1881           5.4          2000  -10300000  \n",
       "1061           5.2          2012   -3106279  \n",
       "692            5.7          2008   -4929670  \n",
       "1452           6.2          2006   75019340  \n",
       "1674           6.8          2007  435349010  \n",
       "1551           6.5          2006   11480851  \n",
       "1322           5.6          2005  230579719  \n",
       "1507           6.7          2006   -3019004  \n",
       "882            6.9          2002   93772504  \n",
       "428            5.4          2010   11993168  "
      ]
     },
     "execution_count": 32,
     "metadata": {},
     "output_type": "execute_result"
    }
   ],
   "source": [
    "data = pd.read_csv('movie_bd_v5.csv')\n",
    "data['profit'] = data['revenue'] - data['budget']\n",
    "data.sample(20)"
   ]
  },
  {
   "cell_type": "code",
   "execution_count": 3,
   "metadata": {
    "colab": {},
    "colab_type": "code",
    "collapsed": true,
    "id": "CoYUnagMVp-C"
   },
   "outputs": [
    {
     "data": {
      "text/html": [
       "<div>\n",
       "<style scoped>\n",
       "    .dataframe tbody tr th:only-of-type {\n",
       "        vertical-align: middle;\n",
       "    }\n",
       "\n",
       "    .dataframe tbody tr th {\n",
       "        vertical-align: top;\n",
       "    }\n",
       "\n",
       "    .dataframe thead th {\n",
       "        text-align: right;\n",
       "    }\n",
       "</style>\n",
       "<table border=\"1\" class=\"dataframe\">\n",
       "  <thead>\n",
       "    <tr style=\"text-align: right;\">\n",
       "      <th></th>\n",
       "      <th>budget</th>\n",
       "      <th>revenue</th>\n",
       "      <th>runtime</th>\n",
       "      <th>vote_average</th>\n",
       "      <th>release_year</th>\n",
       "      <th>profit</th>\n",
       "    </tr>\n",
       "  </thead>\n",
       "  <tbody>\n",
       "    <tr>\n",
       "      <th>count</th>\n",
       "      <td>1.889000e+03</td>\n",
       "      <td>1.889000e+03</td>\n",
       "      <td>1889.000000</td>\n",
       "      <td>1889.000000</td>\n",
       "      <td>1889.000000</td>\n",
       "      <td>1.889000e+03</td>\n",
       "    </tr>\n",
       "    <tr>\n",
       "      <th>mean</th>\n",
       "      <td>5.431083e+07</td>\n",
       "      <td>1.553653e+08</td>\n",
       "      <td>109.658549</td>\n",
       "      <td>6.140762</td>\n",
       "      <td>2007.860773</td>\n",
       "      <td>1.010545e+08</td>\n",
       "    </tr>\n",
       "    <tr>\n",
       "      <th>std</th>\n",
       "      <td>4.858721e+07</td>\n",
       "      <td>2.146698e+08</td>\n",
       "      <td>18.017041</td>\n",
       "      <td>0.764763</td>\n",
       "      <td>4.468841</td>\n",
       "      <td>1.830733e+08</td>\n",
       "    </tr>\n",
       "    <tr>\n",
       "      <th>min</th>\n",
       "      <td>5.000000e+06</td>\n",
       "      <td>2.033165e+06</td>\n",
       "      <td>63.000000</td>\n",
       "      <td>3.300000</td>\n",
       "      <td>2000.000000</td>\n",
       "      <td>-1.657101e+08</td>\n",
       "    </tr>\n",
       "    <tr>\n",
       "      <th>25%</th>\n",
       "      <td>2.000000e+07</td>\n",
       "      <td>3.456058e+07</td>\n",
       "      <td>97.000000</td>\n",
       "      <td>5.600000</td>\n",
       "      <td>2004.000000</td>\n",
       "      <td>5.000000e+06</td>\n",
       "    </tr>\n",
       "    <tr>\n",
       "      <th>50%</th>\n",
       "      <td>3.800000e+07</td>\n",
       "      <td>8.361541e+07</td>\n",
       "      <td>107.000000</td>\n",
       "      <td>6.100000</td>\n",
       "      <td>2008.000000</td>\n",
       "      <td>4.400041e+07</td>\n",
       "    </tr>\n",
       "    <tr>\n",
       "      <th>75%</th>\n",
       "      <td>7.200000e+07</td>\n",
       "      <td>1.782626e+08</td>\n",
       "      <td>120.000000</td>\n",
       "      <td>6.600000</td>\n",
       "      <td>2012.000000</td>\n",
       "      <td>1.201842e+08</td>\n",
       "    </tr>\n",
       "    <tr>\n",
       "      <th>max</th>\n",
       "      <td>3.800000e+08</td>\n",
       "      <td>2.781506e+09</td>\n",
       "      <td>214.000000</td>\n",
       "      <td>8.100000</td>\n",
       "      <td>2015.000000</td>\n",
       "      <td>2.544506e+09</td>\n",
       "    </tr>\n",
       "  </tbody>\n",
       "</table>\n",
       "</div>"
      ],
      "text/plain": [
       "             budget       revenue      runtime  vote_average  release_year  \\\n",
       "count  1.889000e+03  1.889000e+03  1889.000000   1889.000000   1889.000000   \n",
       "mean   5.431083e+07  1.553653e+08   109.658549      6.140762   2007.860773   \n",
       "std    4.858721e+07  2.146698e+08    18.017041      0.764763      4.468841   \n",
       "min    5.000000e+06  2.033165e+06    63.000000      3.300000   2000.000000   \n",
       "25%    2.000000e+07  3.456058e+07    97.000000      5.600000   2004.000000   \n",
       "50%    3.800000e+07  8.361541e+07   107.000000      6.100000   2008.000000   \n",
       "75%    7.200000e+07  1.782626e+08   120.000000      6.600000   2012.000000   \n",
       "max    3.800000e+08  2.781506e+09   214.000000      8.100000   2015.000000   \n",
       "\n",
       "             profit  \n",
       "count  1.889000e+03  \n",
       "mean   1.010545e+08  \n",
       "std    1.830733e+08  \n",
       "min   -1.657101e+08  \n",
       "25%    5.000000e+06  \n",
       "50%    4.400041e+07  \n",
       "75%    1.201842e+08  \n",
       "max    2.544506e+09  "
      ]
     },
     "execution_count": 3,
     "metadata": {},
     "output_type": "execute_result"
    }
   ],
   "source": [
    "data.describe()"
   ]
  },
  {
   "cell_type": "markdown",
   "metadata": {
    "colab_type": "text",
    "id": "DTIt7ezGVp-G"
   },
   "source": [
    "# Предобработка"
   ]
  },
  {
   "cell_type": "code",
   "execution_count": 33,
   "metadata": {
    "colab": {},
    "colab_type": "code",
    "collapsed": true,
    "id": "jNb40DwKVp-H"
   },
   "outputs": [
    {
     "ename": "AttributeError",
     "evalue": "'DataFrame' object has no attribute 'explode'",
     "output_type": "error",
     "traceback": [
      "\u001b[1;31m---------------------------------------------------------------------------\u001b[0m",
      "\u001b[1;31mAttributeError\u001b[0m                            Traceback (most recent call last)",
      "\u001b[1;32m<ipython-input-33-0f90f3042ea2>\u001b[0m in \u001b[0;36m<module>\u001b[1;34m()\u001b[0m\n\u001b[0;32m     12\u001b[0m \u001b[0mdata_1bos\u001b[0m \u001b[1;33m=\u001b[0m \u001b[0mdata\u001b[0m\u001b[1;33m.\u001b[0m\u001b[0mcopy\u001b[0m\u001b[1;33m(\u001b[0m\u001b[1;33m)\u001b[0m\u001b[1;33m\u001b[0m\u001b[0m\n\u001b[0;32m     13\u001b[0m \u001b[0mdata_1bos\u001b[0m\u001b[1;33m.\u001b[0m\u001b[0mdirector\u001b[0m \u001b[1;33m=\u001b[0m \u001b[0mdata_1bos\u001b[0m\u001b[1;33m.\u001b[0m\u001b[0mdirector\u001b[0m\u001b[1;33m.\u001b[0m\u001b[0mstr\u001b[0m\u001b[1;33m.\u001b[0m\u001b[0msplit\u001b[0m\u001b[1;33m(\u001b[0m\u001b[1;34m'|'\u001b[0m\u001b[1;33m)\u001b[0m\u001b[1;33m\u001b[0m\u001b[0m\n\u001b[1;32m---> 14\u001b[1;33m \u001b[0mdata_1bos\u001b[0m\u001b[1;33m=\u001b[0m\u001b[0mdata_1bos\u001b[0m\u001b[1;33m.\u001b[0m\u001b[0mexplode\u001b[0m\u001b[1;33m(\u001b[0m\u001b[1;34m'director'\u001b[0m\u001b[1;33m)\u001b[0m\u001b[1;33m\u001b[0m\u001b[0m\n\u001b[0m\u001b[0;32m     15\u001b[0m \u001b[1;33m\u001b[0m\u001b[0m\n\u001b[0;32m     16\u001b[0m \u001b[1;34m'выделение и добавление строк только с одной кинокомпанией'\u001b[0m\u001b[1;33m\u001b[0m\u001b[0m\n",
      "\u001b[1;32m~\\Anaconda3\\lib\\site-packages\\pandas\\core\\generic.py\u001b[0m in \u001b[0;36m__getattr__\u001b[1;34m(self, name)\u001b[0m\n\u001b[0;32m   4374\u001b[0m             \u001b[1;32mif\u001b[0m \u001b[0mself\u001b[0m\u001b[1;33m.\u001b[0m\u001b[0m_info_axis\u001b[0m\u001b[1;33m.\u001b[0m\u001b[0m_can_hold_identifiers_and_holds_name\u001b[0m\u001b[1;33m(\u001b[0m\u001b[0mname\u001b[0m\u001b[1;33m)\u001b[0m\u001b[1;33m:\u001b[0m\u001b[1;33m\u001b[0m\u001b[0m\n\u001b[0;32m   4375\u001b[0m                 \u001b[1;32mreturn\u001b[0m \u001b[0mself\u001b[0m\u001b[1;33m[\u001b[0m\u001b[0mname\u001b[0m\u001b[1;33m]\u001b[0m\u001b[1;33m\u001b[0m\u001b[0m\n\u001b[1;32m-> 4376\u001b[1;33m             \u001b[1;32mreturn\u001b[0m \u001b[0mobject\u001b[0m\u001b[1;33m.\u001b[0m\u001b[0m__getattribute__\u001b[0m\u001b[1;33m(\u001b[0m\u001b[0mself\u001b[0m\u001b[1;33m,\u001b[0m \u001b[0mname\u001b[0m\u001b[1;33m)\u001b[0m\u001b[1;33m\u001b[0m\u001b[0m\n\u001b[0m\u001b[0;32m   4377\u001b[0m \u001b[1;33m\u001b[0m\u001b[0m\n\u001b[0;32m   4378\u001b[0m     \u001b[1;32mdef\u001b[0m \u001b[0m__setattr__\u001b[0m\u001b[1;33m(\u001b[0m\u001b[0mself\u001b[0m\u001b[1;33m,\u001b[0m \u001b[0mname\u001b[0m\u001b[1;33m,\u001b[0m \u001b[0mvalue\u001b[0m\u001b[1;33m)\u001b[0m\u001b[1;33m:\u001b[0m\u001b[1;33m\u001b[0m\u001b[0m\n",
      "\u001b[1;31mAttributeError\u001b[0m: 'DataFrame' object has no attribute 'explode'"
     ]
    }
   ],
   "source": [
    "data['profit']=data['revenue'] - data['budget']\n",
    "\n",
    "def howord(s): #подсчёт слов в строке.\n",
    "    c = 1\n",
    "    l = list(s)\n",
    "    for i in range(0,(len(l)-1)):\n",
    "        if l[i] == ' ': \n",
    "            c+=1\n",
    "    return c\n",
    "\n",
    "'выделение и добавление строк только с одним режиссёром'\n",
    "data_1bos = data.copy()\n",
    "data_1bos.director = data_1bos.director.str.split('|')\n",
    "data_1bos=data_1bos.explode('director')\n",
    "\n",
    "'выделение и добавление строк только с одной кинокомпанией'\n",
    "data_1company=data.copy()\n",
    "data_1company.production_companies=data_1company.production_companies.str.split('|')\n",
    "data_1company=data_1company.explode('production_companies')\n",
    "\n",
    "'выделение и добавление строк только с одним актёром'\n",
    "data_1cast=data.copy()\n",
    "data_1cast.cast=data_1cast.cast.str.split('|')\n",
    "data_1cast=data_1cast.explode('cast')\n",
    "\n",
    "'новый признак - месяц выхода фильма'\n",
    "data_rel_month=data.copy()\n",
    "data_rel_month[\"release_date\"] = pd.to_datetime(data_rel_month[\"release_date\"])\n",
    "data_rel_month[\"month\"] = data_rel_month[\"release_date\"].dt.month\n",
    "\n",
    "\n",
    "answers = {\n",
    "    1: 'Pirates of the Caribbean: On Stranger Tides (tt1298650)',\n",
    "    2: 'Gods and Generals (tt0279111)',\n",
    "    3: 'Winnie the Pooh',\n",
    "    4: '110',\n",
    "    5: '107.0',\n",
    "    6: 'Avatar (tt0499549)',\n",
    "    7: 'The Lone Ranger (tt1210819)',\n",
    "    8: '1478',\n",
    "    9: 'The Dark Knight (tt0468569)',\n",
    "    10: 'The Lone Ranger (tt1210819)',\n",
    "    11: 'Drama',\n",
    "    12: 'Drama',\n",
    "    13: 'Peter Jackson',\n",
    "    14: 'Robert Rodriguez',\n",
    "    15: 'Chris Hemsworth',\n",
    "    16: 'Matt Damon',\n",
    "    17: 'Action',\n",
    "    18: 'K-19: The Widowmaker',\n",
    "    19: '2015',\n",
    "    20: '2014',\n",
    "    21: 'Сентябрь',\n",
    "    22: '450',\n",
    "    23: 'Peter Jackson',\n",
    "    24: 'Four By Two Productions',\n",
    "    25: 'Universal Pictures',  # - неверно(\n",
    "    26: 'Inside Out, The Dark Knight, 12 Years a Slave',\n",
    "    27: 'Daniel Radcliffe & Rupert Grint'    \n",
    "} \n",
    "# создадим словарь для ответов\n",
    "\n",
    "# тут другие ваши предобработки колонок например:\n",
    "\n",
    "#the time given in the dataset is in string format.\n",
    "#So we need to change this in datetime format\n",
    "# ...\n",
    "\n"
   ]
  },
  {
   "cell_type": "markdown",
   "metadata": {
    "colab_type": "text",
    "id": "YxZaH-nPVp-L"
   },
   "source": [
    "# 1. У какого фильма из списка самый большой бюджет?"
   ]
  },
  {
   "cell_type": "markdown",
   "metadata": {
    "colab_type": "text",
    "id": "Nd-G5gX6Vp-M"
   },
   "source": [
    "Использовать варианты ответов в коде решения запрещено.    \n",
    "Вы думаете и в жизни у вас будут варианты ответов?)"
   ]
  },
  {
   "cell_type": "code",
   "execution_count": null,
   "metadata": {
    "colab": {},
    "colab_type": "code",
    "id": "uVnXAY5RVp-O"
   },
   "outputs": [],
   "source": [
    "# в словарь вставляем номер вопроса и ваш ответ на него\n",
    "# Пример: \n",
    "answers['1'] = '2. Spider-Man 3 (tt0413300)'\n",
    "# запишите свой вариант ответа\n",
    "answers['1'] = '...'\n",
    "# если ответили верно, можете добавить комментарий со значком \"+\""
   ]
  },
  {
   "cell_type": "code",
   "execution_count": 77,
   "metadata": {},
   "outputs": [],
   "source": [
    "answers[1] = 'Pirates of the Caribbean: On Stranger Tides (tt1298650)'"
   ]
  },
  {
   "cell_type": "code",
   "execution_count": 48,
   "metadata": {
    "colab": {},
    "colab_type": "code",
    "collapsed": true,
    "id": "dZwb3m28Vp-S"
   },
   "outputs": [
    {
     "data": {
      "text/html": [
       "<div>\n",
       "<style scoped>\n",
       "    .dataframe tbody tr th:only-of-type {\n",
       "        vertical-align: middle;\n",
       "    }\n",
       "\n",
       "    .dataframe tbody tr th {\n",
       "        vertical-align: top;\n",
       "    }\n",
       "\n",
       "    .dataframe thead th {\n",
       "        text-align: right;\n",
       "    }\n",
       "</style>\n",
       "<table border=\"1\" class=\"dataframe\">\n",
       "  <thead>\n",
       "    <tr style=\"text-align: right;\">\n",
       "      <th></th>\n",
       "      <th>imdb_id</th>\n",
       "      <th>budget</th>\n",
       "      <th>revenue</th>\n",
       "      <th>original_title</th>\n",
       "      <th>cast</th>\n",
       "      <th>director</th>\n",
       "      <th>tagline</th>\n",
       "      <th>overview</th>\n",
       "      <th>runtime</th>\n",
       "      <th>genres</th>\n",
       "      <th>production_companies</th>\n",
       "      <th>release_date</th>\n",
       "      <th>vote_average</th>\n",
       "      <th>release_year</th>\n",
       "      <th>profit</th>\n",
       "    </tr>\n",
       "  </thead>\n",
       "  <tbody>\n",
       "    <tr>\n",
       "      <th>723</th>\n",
       "      <td>tt1298650</td>\n",
       "      <td>380000000</td>\n",
       "      <td>1021683000</td>\n",
       "      <td>Pirates of the Caribbean: On Stranger Tides</td>\n",
       "      <td>Johnny Depp|PenÃ©lope Cruz|Geoffrey Rush|Ian M...</td>\n",
       "      <td>Rob Marshall</td>\n",
       "      <td>Live Forever Or Die Trying.</td>\n",
       "      <td>Captain Jack Sparrow crosses paths with a woma...</td>\n",
       "      <td>136</td>\n",
       "      <td>Adventure|Action|Fantasy</td>\n",
       "      <td>Walt Disney Pictures|Jerry Bruckheimer Films|M...</td>\n",
       "      <td>5/11/2011</td>\n",
       "      <td>6.3</td>\n",
       "      <td>2011</td>\n",
       "      <td>641683000</td>\n",
       "    </tr>\n",
       "  </tbody>\n",
       "</table>\n",
       "</div>"
      ],
      "text/plain": [
       "       imdb_id     budget     revenue  \\\n",
       "723  tt1298650  380000000  1021683000   \n",
       "\n",
       "                                  original_title  \\\n",
       "723  Pirates of the Caribbean: On Stranger Tides   \n",
       "\n",
       "                                                  cast      director  \\\n",
       "723  Johnny Depp|PenÃ©lope Cruz|Geoffrey Rush|Ian M...  Rob Marshall   \n",
       "\n",
       "                         tagline  \\\n",
       "723  Live Forever Or Die Trying.   \n",
       "\n",
       "                                              overview  runtime  \\\n",
       "723  Captain Jack Sparrow crosses paths with a woma...      136   \n",
       "\n",
       "                       genres  \\\n",
       "723  Adventure|Action|Fantasy   \n",
       "\n",
       "                                  production_companies release_date  \\\n",
       "723  Walt Disney Pictures|Jerry Bruckheimer Films|M...    5/11/2011   \n",
       "\n",
       "     vote_average  release_year     profit  \n",
       "723           6.3          2011  641683000  "
      ]
     },
     "execution_count": 48,
     "metadata": {},
     "output_type": "execute_result"
    }
   ],
   "source": [
    "data[(data.budget == data.budget.max())]\n"
   ]
  },
  {
   "cell_type": "code",
   "execution_count": null,
   "metadata": {
    "colab": {},
    "colab_type": "code",
    "id": "OGaoQI7rVp-X"
   },
   "outputs": [],
   "source": [
    "# можно добавлять разные варианты решения"
   ]
  },
  {
   "cell_type": "markdown",
   "metadata": {
    "colab_type": "text",
    "id": "FNRbbI3vVp-c"
   },
   "source": [
    "# 2. Какой из фильмов самый длительный (в минутах)?"
   ]
  },
  {
   "cell_type": "code",
   "execution_count": 79,
   "metadata": {},
   "outputs": [],
   "source": [
    "answers[2] = 'Gods and Generals (tt0279111)'"
   ]
  },
  {
   "cell_type": "code",
   "execution_count": 63,
   "metadata": {
    "colab": {},
    "colab_type": "code",
    "collapsed": true,
    "id": "ot-VX2XrVp-g"
   },
   "outputs": [
    {
     "data": {
      "text/html": [
       "<div>\n",
       "<style scoped>\n",
       "    .dataframe tbody tr th:only-of-type {\n",
       "        vertical-align: middle;\n",
       "    }\n",
       "\n",
       "    .dataframe tbody tr th {\n",
       "        vertical-align: top;\n",
       "    }\n",
       "\n",
       "    .dataframe thead th {\n",
       "        text-align: right;\n",
       "    }\n",
       "</style>\n",
       "<table border=\"1\" class=\"dataframe\">\n",
       "  <thead>\n",
       "    <tr style=\"text-align: right;\">\n",
       "      <th></th>\n",
       "      <th>imdb_id</th>\n",
       "      <th>budget</th>\n",
       "      <th>revenue</th>\n",
       "      <th>original_title</th>\n",
       "      <th>cast</th>\n",
       "      <th>director</th>\n",
       "      <th>tagline</th>\n",
       "      <th>overview</th>\n",
       "      <th>runtime</th>\n",
       "      <th>genres</th>\n",
       "      <th>production_companies</th>\n",
       "      <th>release_date</th>\n",
       "      <th>vote_average</th>\n",
       "      <th>release_year</th>\n",
       "      <th>profit</th>\n",
       "    </tr>\n",
       "  </thead>\n",
       "  <tbody>\n",
       "    <tr>\n",
       "      <th>1157</th>\n",
       "      <td>tt0279111</td>\n",
       "      <td>56000000</td>\n",
       "      <td>12923936</td>\n",
       "      <td>Gods and Generals</td>\n",
       "      <td>Stephen Lang|Jeff Daniels|Robert Duvall|Kevin ...</td>\n",
       "      <td>Ronald F. Maxwell</td>\n",
       "      <td>The nations heart was touched by...</td>\n",
       "      <td>The film centers mostly around the personal an...</td>\n",
       "      <td>214</td>\n",
       "      <td>Drama|History|War</td>\n",
       "      <td>Turner Pictures|Antietam Filmworks</td>\n",
       "      <td>2/21/2003</td>\n",
       "      <td>5.8</td>\n",
       "      <td>2003</td>\n",
       "      <td>-43076064</td>\n",
       "    </tr>\n",
       "  </tbody>\n",
       "</table>\n",
       "</div>"
      ],
      "text/plain": [
       "        imdb_id    budget   revenue     original_title  \\\n",
       "1157  tt0279111  56000000  12923936  Gods and Generals   \n",
       "\n",
       "                                                   cast           director  \\\n",
       "1157  Stephen Lang|Jeff Daniels|Robert Duvall|Kevin ...  Ronald F. Maxwell   \n",
       "\n",
       "                                  tagline  \\\n",
       "1157  The nations heart was touched by...   \n",
       "\n",
       "                                               overview  runtime  \\\n",
       "1157  The film centers mostly around the personal an...      214   \n",
       "\n",
       "                 genres                production_companies release_date  \\\n",
       "1157  Drama|History|War  Turner Pictures|Antietam Filmworks    2/21/2003   \n",
       "\n",
       "      vote_average  release_year    profit  \n",
       "1157           5.8          2003 -43076064  "
      ]
     },
     "execution_count": 63,
     "metadata": {},
     "output_type": "execute_result"
    }
   ],
   "source": [
    "data[(data.runtime == data.runtime.max())]"
   ]
  },
  {
   "cell_type": "markdown",
   "metadata": {
    "colab_type": "text",
    "id": "bapLlpW8Vp-k"
   },
   "source": [
    "# 3. Какой из фильмов самый короткий (в минутах)?\n",
    "\n",
    "\n",
    "\n"
   ]
  },
  {
   "cell_type": "code",
   "execution_count": 61,
   "metadata": {
    "colab": {},
    "colab_type": "code",
    "collapsed": true,
    "id": "vHAoEXNTVp-d"
   },
   "outputs": [
    {
     "ename": "SyntaxError",
     "evalue": "illegal target for annotation (<ipython-input-61-f5381f62381f>, line 3)",
     "output_type": "error",
     "traceback": [
      "\u001b[1;36m  File \u001b[1;32m\"<ipython-input-61-f5381f62381f>\"\u001b[1;36m, line \u001b[1;32m3\u001b[0m\n\u001b[1;33m    2:'Gods and Generals (tt0279111)'\u001b[0m\n\u001b[1;37m    ^\u001b[0m\n\u001b[1;31mSyntaxError\u001b[0m\u001b[1;31m:\u001b[0m illegal target for annotation\n"
     ]
    }
   ],
   "source": [
    "# думаю логику работы с этим словарем вы уже поняли, \n",
    "# по этому не буду больше его дублировать\n",
    "answers[3] = 'Winnie the Pooh (tt1449283)'"
   ]
  },
  {
   "cell_type": "code",
   "execution_count": 62,
   "metadata": {
    "colab": {},
    "colab_type": "code",
    "collapsed": true,
    "id": "YBxaSHuAVp-l"
   },
   "outputs": [
    {
     "data": {
      "text/html": [
       "<div>\n",
       "<style scoped>\n",
       "    .dataframe tbody tr th:only-of-type {\n",
       "        vertical-align: middle;\n",
       "    }\n",
       "\n",
       "    .dataframe tbody tr th {\n",
       "        vertical-align: top;\n",
       "    }\n",
       "\n",
       "    .dataframe thead th {\n",
       "        text-align: right;\n",
       "    }\n",
       "</style>\n",
       "<table border=\"1\" class=\"dataframe\">\n",
       "  <thead>\n",
       "    <tr style=\"text-align: right;\">\n",
       "      <th></th>\n",
       "      <th>imdb_id</th>\n",
       "      <th>budget</th>\n",
       "      <th>revenue</th>\n",
       "      <th>original_title</th>\n",
       "      <th>cast</th>\n",
       "      <th>director</th>\n",
       "      <th>tagline</th>\n",
       "      <th>overview</th>\n",
       "      <th>runtime</th>\n",
       "      <th>genres</th>\n",
       "      <th>production_companies</th>\n",
       "      <th>release_date</th>\n",
       "      <th>vote_average</th>\n",
       "      <th>release_year</th>\n",
       "      <th>profit</th>\n",
       "    </tr>\n",
       "  </thead>\n",
       "  <tbody>\n",
       "    <tr>\n",
       "      <th>768</th>\n",
       "      <td>tt1449283</td>\n",
       "      <td>30000000</td>\n",
       "      <td>14460000</td>\n",
       "      <td>Winnie the Pooh</td>\n",
       "      <td>Jim Cummings|Travis Oates|Jim Cummings|Bud Luc...</td>\n",
       "      <td>Stephen Anderson|Don Hall</td>\n",
       "      <td>Oh Pooh.</td>\n",
       "      <td>During an ordinary day in Hundred Acre Wood, W...</td>\n",
       "      <td>63</td>\n",
       "      <td>Animation|Family</td>\n",
       "      <td>Walt Disney Pictures|Walt Disney Animation Stu...</td>\n",
       "      <td>4/13/2011</td>\n",
       "      <td>6.8</td>\n",
       "      <td>2011</td>\n",
       "      <td>-15540000</td>\n",
       "    </tr>\n",
       "  </tbody>\n",
       "</table>\n",
       "</div>"
      ],
      "text/plain": [
       "       imdb_id    budget   revenue   original_title  \\\n",
       "768  tt1449283  30000000  14460000  Winnie the Pooh   \n",
       "\n",
       "                                                  cast  \\\n",
       "768  Jim Cummings|Travis Oates|Jim Cummings|Bud Luc...   \n",
       "\n",
       "                      director   tagline  \\\n",
       "768  Stephen Anderson|Don Hall  Oh Pooh.   \n",
       "\n",
       "                                              overview  runtime  \\\n",
       "768  During an ordinary day in Hundred Acre Wood, W...       63   \n",
       "\n",
       "               genres                               production_companies  \\\n",
       "768  Animation|Family  Walt Disney Pictures|Walt Disney Animation Stu...   \n",
       "\n",
       "    release_date  vote_average  release_year    profit  \n",
       "768    4/13/2011           6.8          2011 -15540000  "
      ]
     },
     "execution_count": 62,
     "metadata": {},
     "output_type": "execute_result"
    }
   ],
   "source": [
    "data[(data.runtime == data.runtime.min())]"
   ]
  },
  {
   "cell_type": "markdown",
   "metadata": {
    "colab_type": "text",
    "id": "TfQbxbfNVp-p"
   },
   "source": [
    "# 4. Какова средняя длительность фильмов?\n"
   ]
  },
  {
   "cell_type": "code",
   "execution_count": 34,
   "metadata": {
    "collapsed": true
   },
   "outputs": [
    {
     "ename": "NameError",
     "evalue": "name 'answers' is not defined",
     "output_type": "error",
     "traceback": [
      "\u001b[1;31m---------------------------------------------------------------------------\u001b[0m",
      "\u001b[1;31mNameError\u001b[0m                                 Traceback (most recent call last)",
      "\u001b[1;32m<ipython-input-34-6a164f1e4cc4>\u001b[0m in \u001b[0;36m<module>\u001b[1;34m()\u001b[0m\n\u001b[1;32m----> 1\u001b[1;33m \u001b[0manswers\u001b[0m\u001b[1;33m[\u001b[0m\u001b[1;36m4\u001b[0m\u001b[1;33m]\u001b[0m \u001b[1;33m=\u001b[0m \u001b[1;36m110\u001b[0m\u001b[1;33m\u001b[0m\u001b[0m\n\u001b[0m",
      "\u001b[1;31mNameError\u001b[0m: name 'answers' is not defined"
     ]
    }
   ],
   "source": [
    "answers[4] = '110'"
   ]
  },
  {
   "cell_type": "code",
   "execution_count": null,
   "metadata": {
    "colab": {},
    "colab_type": "code",
    "id": "5K6dKZYVVp-q"
   },
   "outputs": [],
   "source": [
    "#data['runtime'].mean()\n",
    "data.runtime.mean()"
   ]
  },
  {
   "cell_type": "markdown",
   "metadata": {
    "colab_type": "text",
    "id": "r5TvbnT_Vp-u"
   },
   "source": [
    "# 5. Каково медианное значение длительности фильмов? "
   ]
  },
  {
   "cell_type": "code",
   "execution_count": null,
   "metadata": {},
   "outputs": [],
   "source": [
    "answers[5] = '107.0'"
   ]
  },
  {
   "cell_type": "code",
   "execution_count": 3,
   "metadata": {
    "colab": {},
    "colab_type": "code",
    "id": "iBROplKnVp-v"
   },
   "outputs": [
    {
     "data": {
      "text/plain": [
       "107.0"
      ]
     },
     "execution_count": 3,
     "metadata": {},
     "output_type": "execute_result"
    }
   ],
   "source": [
    "data['runtime'].median()\n",
    "#data.runtime.median()"
   ]
  },
  {
   "cell_type": "markdown",
   "metadata": {
    "colab_type": "text",
    "id": "39P-deDSVp-y"
   },
   "source": [
    "# 6. Какой самый прибыльный фильм?\n",
    "#### Внимание! Здесь и далее под «прибылью» или «убытками» понимается разность между сборами и бюджетом фильма. (прибыль = сборы - бюджет) в нашем датасете это будет (profit = revenue - budget) "
   ]
  },
  {
   "cell_type": "code",
   "execution_count": 9,
   "metadata": {
    "collapsed": true
   },
   "outputs": [
    {
     "ename": "SyntaxError",
     "evalue": "leading zeros in decimal integer literals are not permitted; use an 0o prefix for octal integers (<ipython-input-9-8a43bef7ae27>, line 1)",
     "output_type": "error",
     "traceback": [
      "\u001b[1;36m  File \u001b[1;32m\"<ipython-input-9-8a43bef7ae27>\"\u001b[1;36m, line \u001b[1;32m1\u001b[0m\n\u001b[1;33m    049answers['6'] ='Avatar (tt9549)'\u001b[0m\n\u001b[1;37m      ^\u001b[0m\n\u001b[1;31mSyntaxError\u001b[0m\u001b[1;31m:\u001b[0m leading zeros in decimal integer literals are not permitted; use an 0o prefix for octal integers\n"
     ]
    }
   ],
   "source": [
    "answers[6] = 'Avatar (tt0499549)'"
   ]
  },
  {
   "cell_type": "code",
   "execution_count": 7,
   "metadata": {
    "colab": {},
    "colab_type": "code",
    "collapsed": true,
    "id": "UYZh4T9WVp-y"
   },
   "outputs": [
    {
     "data": {
      "text/html": [
       "<div>\n",
       "<style scoped>\n",
       "    .dataframe tbody tr th:only-of-type {\n",
       "        vertical-align: middle;\n",
       "    }\n",
       "\n",
       "    .dataframe tbody tr th {\n",
       "        vertical-align: top;\n",
       "    }\n",
       "\n",
       "    .dataframe thead th {\n",
       "        text-align: right;\n",
       "    }\n",
       "</style>\n",
       "<table border=\"1\" class=\"dataframe\">\n",
       "  <thead>\n",
       "    <tr style=\"text-align: right;\">\n",
       "      <th></th>\n",
       "      <th>imdb_id</th>\n",
       "      <th>budget</th>\n",
       "      <th>revenue</th>\n",
       "      <th>original_title</th>\n",
       "      <th>cast</th>\n",
       "      <th>director</th>\n",
       "      <th>tagline</th>\n",
       "      <th>overview</th>\n",
       "      <th>runtime</th>\n",
       "      <th>genres</th>\n",
       "      <th>production_companies</th>\n",
       "      <th>release_date</th>\n",
       "      <th>vote_average</th>\n",
       "      <th>release_year</th>\n",
       "      <th>profit</th>\n",
       "    </tr>\n",
       "  </thead>\n",
       "  <tbody>\n",
       "    <tr>\n",
       "      <th>239</th>\n",
       "      <td>tt0499549</td>\n",
       "      <td>237000000</td>\n",
       "      <td>2781505847</td>\n",
       "      <td>Avatar</td>\n",
       "      <td>Sam Worthington|Zoe Saldana|Sigourney Weaver|S...</td>\n",
       "      <td>James Cameron</td>\n",
       "      <td>Enter the World of Pandora.</td>\n",
       "      <td>In the 22nd century, a paraplegic Marine is di...</td>\n",
       "      <td>162</td>\n",
       "      <td>Action|Adventure|Fantasy|Science Fiction</td>\n",
       "      <td>Ingenious Film Partners|Twentieth Century Fox ...</td>\n",
       "      <td>12/10/2009</td>\n",
       "      <td>7.1</td>\n",
       "      <td>2009</td>\n",
       "      <td>2544505847</td>\n",
       "    </tr>\n",
       "  </tbody>\n",
       "</table>\n",
       "</div>"
      ],
      "text/plain": [
       "       imdb_id     budget     revenue original_title  \\\n",
       "239  tt0499549  237000000  2781505847         Avatar   \n",
       "\n",
       "                                                  cast       director  \\\n",
       "239  Sam Worthington|Zoe Saldana|Sigourney Weaver|S...  James Cameron   \n",
       "\n",
       "                         tagline  \\\n",
       "239  Enter the World of Pandora.   \n",
       "\n",
       "                                              overview  runtime  \\\n",
       "239  In the 22nd century, a paraplegic Marine is di...      162   \n",
       "\n",
       "                                       genres  \\\n",
       "239  Action|Adventure|Fantasy|Science Fiction   \n",
       "\n",
       "                                  production_companies release_date  \\\n",
       "239  Ingenious Film Partners|Twentieth Century Fox ...   12/10/2009   \n",
       "\n",
       "     vote_average  release_year      profit  \n",
       "239           7.1          2009  2544505847  "
      ]
     },
     "execution_count": 7,
     "metadata": {},
     "output_type": "execute_result"
    }
   ],
   "source": [
    "# лучше код получения столбца profit вынести в Предобработку что в начале\n",
    "\n",
    "data.profit = data['revenue'] - data['budget']\n",
    "data[data.profit == data.profit.max()]"
   ]
  },
  {
   "cell_type": "markdown",
   "metadata": {
    "colab_type": "text",
    "id": "M99JmIX4Vp-2"
   },
   "source": [
    "# 7. Какой фильм самый убыточный? "
   ]
  },
  {
   "cell_type": "code",
   "execution_count": null,
   "metadata": {},
   "outputs": [],
   "source": [
    "answers[7] = 'The Lone Ranger (tt1210819)'"
   ]
  },
  {
   "cell_type": "code",
   "execution_count": 22,
   "metadata": {
    "colab": {},
    "colab_type": "code",
    "collapsed": true,
    "id": "w-D2m4XPVp-3"
   },
   "outputs": [
    {
     "data": {
      "text/html": [
       "<div>\n",
       "<style scoped>\n",
       "    .dataframe tbody tr th:only-of-type {\n",
       "        vertical-align: middle;\n",
       "    }\n",
       "\n",
       "    .dataframe tbody tr th {\n",
       "        vertical-align: top;\n",
       "    }\n",
       "\n",
       "    .dataframe thead th {\n",
       "        text-align: right;\n",
       "    }\n",
       "</style>\n",
       "<table border=\"1\" class=\"dataframe\">\n",
       "  <thead>\n",
       "    <tr style=\"text-align: right;\">\n",
       "      <th></th>\n",
       "      <th>imdb_id</th>\n",
       "      <th>budget</th>\n",
       "      <th>revenue</th>\n",
       "      <th>original_title</th>\n",
       "      <th>cast</th>\n",
       "      <th>director</th>\n",
       "      <th>tagline</th>\n",
       "      <th>overview</th>\n",
       "      <th>runtime</th>\n",
       "      <th>genres</th>\n",
       "      <th>production_companies</th>\n",
       "      <th>release_date</th>\n",
       "      <th>vote_average</th>\n",
       "      <th>release_year</th>\n",
       "      <th>profit</th>\n",
       "    </tr>\n",
       "  </thead>\n",
       "  <tbody>\n",
       "    <tr>\n",
       "      <th>1245</th>\n",
       "      <td>tt1210819</td>\n",
       "      <td>255000000</td>\n",
       "      <td>89289910</td>\n",
       "      <td>The Lone Ranger</td>\n",
       "      <td>Johnny Depp|Armie Hammer|William Fichtner|Hele...</td>\n",
       "      <td>Gore Verbinski</td>\n",
       "      <td>Never Take Off the Mask</td>\n",
       "      <td>The Texas Rangers chase down a gang of outlaws...</td>\n",
       "      <td>149</td>\n",
       "      <td>Action|Adventure|Western</td>\n",
       "      <td>Walt Disney Pictures|Jerry Bruckheimer Films|I...</td>\n",
       "      <td>7/3/2013</td>\n",
       "      <td>6.0</td>\n",
       "      <td>2013</td>\n",
       "      <td>-165710090</td>\n",
       "    </tr>\n",
       "  </tbody>\n",
       "</table>\n",
       "</div>"
      ],
      "text/plain": [
       "        imdb_id     budget   revenue   original_title  \\\n",
       "1245  tt1210819  255000000  89289910  The Lone Ranger   \n",
       "\n",
       "                                                   cast        director  \\\n",
       "1245  Johnny Depp|Armie Hammer|William Fichtner|Hele...  Gore Verbinski   \n",
       "\n",
       "                      tagline  \\\n",
       "1245  Never Take Off the Mask   \n",
       "\n",
       "                                               overview  runtime  \\\n",
       "1245  The Texas Rangers chase down a gang of outlaws...      149   \n",
       "\n",
       "                        genres  \\\n",
       "1245  Action|Adventure|Western   \n",
       "\n",
       "                                   production_companies release_date  \\\n",
       "1245  Walt Disney Pictures|Jerry Bruckheimer Films|I...     7/3/2013   \n",
       "\n",
       "      vote_average  release_year     profit  \n",
       "1245           6.0          2013 -165710090  "
      ]
     },
     "execution_count": 22,
     "metadata": {},
     "output_type": "execute_result"
    }
   ],
   "source": [
    "data[data.profit == data.profit.min()]"
   ]
  },
  {
   "cell_type": "markdown",
   "metadata": {
    "colab_type": "text",
    "id": "wEOM5ERVVp-6"
   },
   "source": [
    "# 8. У скольких фильмов из датасета объем сборов оказался выше бюджета?"
   ]
  },
  {
   "cell_type": "code",
   "execution_count": 81,
   "metadata": {},
   "outputs": [],
   "source": [
    "answers[8] = '1478'"
   ]
  },
  {
   "cell_type": "code",
   "execution_count": 82,
   "metadata": {
    "collapsed": true
   },
   "outputs": [
    {
     "data": {
      "text/plain": [
       "imdb_id                 1478\n",
       "budget                  1478\n",
       "revenue                 1478\n",
       "original_title          1478\n",
       "cast                    1478\n",
       "director                1478\n",
       "tagline                 1478\n",
       "overview                1478\n",
       "runtime                 1478\n",
       "genres                  1478\n",
       "production_companies    1478\n",
       "release_date            1478\n",
       "vote_average            1478\n",
       "release_year            1478\n",
       "profit                  1478\n",
       "dtype: int64"
      ]
     },
     "execution_count": 82,
     "metadata": {},
     "output_type": "execute_result"
    }
   ],
   "source": [
    "data[(data.profit > 0)].count()"
   ]
  },
  {
   "cell_type": "markdown",
   "metadata": {
    "colab_type": "text",
    "id": "xhpspA9KVp_A"
   },
   "source": [
    "# 9. Какой фильм оказался самым кассовым в 2008 году?"
   ]
  },
  {
   "cell_type": "code",
   "execution_count": null,
   "metadata": {},
   "outputs": [],
   "source": [
    "answers[9] = 'The Dark Knight (tt0468569)' "
   ]
  },
  {
   "cell_type": "code",
   "execution_count": null,
   "metadata": {
    "colab": {},
    "colab_type": "code",
    "id": "MoUyQr9RVp_B"
   },
   "outputs": [],
   "source": [
    "data1 = data[(data['release_year'] == 2008)]\n",
    "data1[(data1.revenue == data1.revenue.max())]"
   ]
  },
  {
   "cell_type": "markdown",
   "metadata": {
    "colab_type": "text",
    "id": "Zi4hDKidVp_F"
   },
   "source": [
    "# 10. Самый убыточный фильм за период с 2012 по 2014 г. (включительно)?\n"
   ]
  },
  {
   "cell_type": "code",
   "execution_count": null,
   "metadata": {},
   "outputs": [],
   "source": [
    "answers[10] = 'The Lone Ranger (tt1210819)'"
   ]
  },
  {
   "cell_type": "code",
   "execution_count": 10,
   "metadata": {
    "colab": {},
    "colab_type": "code",
    "collapsed": true,
    "id": "XqyRmufJVp_F"
   },
   "outputs": [
    {
     "data": {
      "text/html": [
       "<div>\n",
       "<style scoped>\n",
       "    .dataframe tbody tr th:only-of-type {\n",
       "        vertical-align: middle;\n",
       "    }\n",
       "\n",
       "    .dataframe tbody tr th {\n",
       "        vertical-align: top;\n",
       "    }\n",
       "\n",
       "    .dataframe thead th {\n",
       "        text-align: right;\n",
       "    }\n",
       "</style>\n",
       "<table border=\"1\" class=\"dataframe\">\n",
       "  <thead>\n",
       "    <tr style=\"text-align: right;\">\n",
       "      <th></th>\n",
       "      <th>imdb_id</th>\n",
       "      <th>budget</th>\n",
       "      <th>revenue</th>\n",
       "      <th>original_title</th>\n",
       "      <th>cast</th>\n",
       "      <th>director</th>\n",
       "      <th>tagline</th>\n",
       "      <th>overview</th>\n",
       "      <th>runtime</th>\n",
       "      <th>genres</th>\n",
       "      <th>production_companies</th>\n",
       "      <th>release_date</th>\n",
       "      <th>vote_average</th>\n",
       "      <th>release_year</th>\n",
       "      <th>profit</th>\n",
       "    </tr>\n",
       "  </thead>\n",
       "  <tbody>\n",
       "    <tr>\n",
       "      <th>1245</th>\n",
       "      <td>tt1210819</td>\n",
       "      <td>255000000</td>\n",
       "      <td>89289910</td>\n",
       "      <td>The Lone Ranger</td>\n",
       "      <td>Johnny Depp|Armie Hammer|William Fichtner|Hele...</td>\n",
       "      <td>Gore Verbinski</td>\n",
       "      <td>Never Take Off the Mask</td>\n",
       "      <td>The Texas Rangers chase down a gang of outlaws...</td>\n",
       "      <td>149</td>\n",
       "      <td>Action|Adventure|Western</td>\n",
       "      <td>Walt Disney Pictures|Jerry Bruckheimer Films|I...</td>\n",
       "      <td>7/3/2013</td>\n",
       "      <td>6.0</td>\n",
       "      <td>2013</td>\n",
       "      <td>-165710090</td>\n",
       "    </tr>\n",
       "  </tbody>\n",
       "</table>\n",
       "</div>"
      ],
      "text/plain": [
       "        imdb_id     budget   revenue   original_title  \\\n",
       "1245  tt1210819  255000000  89289910  The Lone Ranger   \n",
       "\n",
       "                                                   cast        director  \\\n",
       "1245  Johnny Depp|Armie Hammer|William Fichtner|Hele...  Gore Verbinski   \n",
       "\n",
       "                      tagline  \\\n",
       "1245  Never Take Off the Mask   \n",
       "\n",
       "                                               overview  runtime  \\\n",
       "1245  The Texas Rangers chase down a gang of outlaws...      149   \n",
       "\n",
       "                        genres  \\\n",
       "1245  Action|Adventure|Western   \n",
       "\n",
       "                                   production_companies release_date  \\\n",
       "1245  Walt Disney Pictures|Jerry Bruckheimer Films|I...     7/3/2013   \n",
       "\n",
       "      vote_average  release_year     profit  \n",
       "1245           6.0          2013 -165710090  "
      ]
     },
     "execution_count": 10,
     "metadata": {},
     "output_type": "execute_result"
    }
   ],
   "source": [
    "data2 = data[(data.release_year < 2015) & (data.release_year > 2011)]\n",
    "data2[(data2.profit == data2.profit.min())] "
   ]
  },
  {
   "cell_type": "markdown",
   "metadata": {
    "colab_type": "text",
    "id": "EA7Sa9dkVp_I"
   },
   "source": [
    "# 11. Какого жанра фильмов больше всего?"
   ]
  },
  {
   "cell_type": "code",
   "execution_count": null,
   "metadata": {
    "colab": {},
    "colab_type": "code",
    "id": "zsJAwJ8QVp_J"
   },
   "outputs": [],
   "source": [
    "# эту задачу тоже можно решать разными подходами, попробуй реализовать разные варианты\n",
    "# если будешь добавлять функцию - выноси ее в предобработку что в начале"
   ]
  },
  {
   "cell_type": "code",
   "execution_count": null,
   "metadata": {},
   "outputs": [],
   "source": [
    "answers[11]  = 'Drama'"
   ]
  },
  {
   "cell_type": "code",
   "execution_count": null,
   "metadata": {
    "scrolled": true
   },
   "outputs": [],
   "source": [
    "spisok = (data.genres.str.split('|')).sum()\n",
    "Counter(spisok).most_common(3)"
   ]
  },
  {
   "cell_type": "markdown",
   "metadata": {
    "colab_type": "text",
    "id": "T9_bPWpkVp_Q"
   },
   "source": [
    "# 12. Фильмы какого жанра чаще всего становятся прибыльными? "
   ]
  },
  {
   "cell_type": "code",
   "execution_count": null,
   "metadata": {},
   "outputs": [],
   "source": [
    "answers[12]  = 'Drama'"
   ]
  },
  {
   "cell_type": "code",
   "execution_count": 23,
   "metadata": {
    "colab": {},
    "colab_type": "code",
    "collapsed": true,
    "id": "Tmt8MaK1Vp_R"
   },
   "outputs": [
    {
     "data": {
      "text/plain": [
       "[('Drama', 560),\n",
       " ('Comedy', 551),\n",
       " ('Thriller', 446),\n",
       " ('Action', 444),\n",
       " ('Adventure', 337),\n",
       " ('Romance', 242)]"
      ]
     },
     "execution_count": 23,
     "metadata": {},
     "output_type": "execute_result"
    }
   ],
   "source": [
    "data3 = data[data.profit > 0]\n",
    "Counter((data3.genres.str.split('|')).sum()).most_common(6)\n"
   ]
  },
  {
   "cell_type": "markdown",
   "metadata": {
    "colab_type": "text",
    "id": "0F23bgsDVp_U"
   },
   "source": [
    "# 13. У какого режиссера самые большие суммарные кассовые сборы?"
   ]
  },
  {
   "cell_type": "code",
   "execution_count": 71,
   "metadata": {},
   "outputs": [],
   "source": [
    "answers[13] = 'Peter Jackson'"
   ]
  },
  {
   "cell_type": "code",
   "execution_count": 21,
   "metadata": {
    "colab": {},
    "colab_type": "code",
    "collapsed": true,
    "id": "K6Z3J8ygVp_X"
   },
   "outputs": [
    {
     "data": {
      "text/plain": [
       "director\n",
       "Peter Jackson        6490593685\n",
       "Christopher Nolan    4167548502\n",
       "David Yates          4154295625\n",
       "Michael Bay          3886938960\n",
       "J.J. Abrams          3579169916\n",
       "                        ...    \n",
       "David MichÃ´d           2295423\n",
       "Steven Shainberg        2281089\n",
       "Paul Schrader           2062066\n",
       "Keanu Reeves            2054941\n",
       "Simon Hunter            2033165\n",
       "Name: revenue, Length: 997, dtype: int64"
      ]
     },
     "execution_count": 21,
     "metadata": {},
     "output_type": "execute_result"
    }
   ],
   "source": [
    "data_1bos.groupby('director')['revenue'].sum().sort_values(ascending=False)"
   ]
  },
  {
   "cell_type": "markdown",
   "metadata": {
    "colab_type": "text",
    "id": "PsYC9FgRVp_a"
   },
   "source": [
    "# 14. Какой режисер снял больше всего фильмов в стиле Action? \n"
   ]
  },
  {
   "cell_type": "code",
   "execution_count": null,
   "metadata": {},
   "outputs": [],
   "source": [
    "answers[14] = 'Robert Rodriguez'"
   ]
  },
  {
   "cell_type": "code",
   "execution_count": null,
   "metadata": {
    "colab": {},
    "colab_type": "code",
    "id": "wd2M-wHeVp_b"
   },
   "outputs": [],
   "source": [
    "data_1bos.genres = data_1bos.genres.str.split('|')\n",
    "data_1bos = data_1bos.explode('genres')\n",
    "data_1bos = data_1bos[(data_1bos.genres == 'Action')]\n",
    "data_1bos.groupby('director')['genres'].count().sort_values(ascending=False)"
   ]
  },
  {
   "cell_type": "markdown",
   "metadata": {
    "colab_type": "text",
    "id": "PQ0KciD7Vp_f"
   },
   "source": [
    "# 15. Фильмы с каким актером принесли самые высокие кассовые сборы в 2012 году? "
   ]
  },
  {
   "cell_type": "code",
   "execution_count": null,
   "metadata": {},
   "outputs": [],
   "source": [
    "answers[15] = 'Chris Hemsworth'"
   ]
  },
  {
   "cell_type": "code",
   "execution_count": null,
   "metadata": {
    "colab": {},
    "colab_type": "code",
    "id": "aga62oeKVp_g"
   },
   "outputs": [],
   "source": [
    "data2012 = data[(data.release_year == 2012)]\n",
    "data2012['cast'] = data2012['cast'].str.split('|')\n",
    "data2012 = data2012.explode('cast')\n",
    "data2012.groupby('cast')['revenue'].sum().sort_values(ascending=False)"
   ]
  },
  {
   "cell_type": "markdown",
   "metadata": {
    "colab_type": "text",
    "id": "mWHyyL7QVp_j"
   },
   "source": [
    "# 16. Какой актер снялся в большем количестве высокобюджетных фильмов?"
   ]
  },
  {
   "cell_type": "code",
   "execution_count": null,
   "metadata": {},
   "outputs": [],
   "source": [
    "answers[16] = 'Matt Damon'"
   ]
  },
  {
   "cell_type": "code",
   "execution_count": 24,
   "metadata": {
    "colab": {},
    "colab_type": "code",
    "collapsed": true,
    "id": "qQtmHKTFVp_k"
   },
   "outputs": [
    {
     "data": {
      "text/plain": [
       "cast\n",
       "Matt Damon           18\n",
       "Adam Sandler         17\n",
       "Angelina Jolie       16\n",
       "Eddie Murphy         15\n",
       "Samuel L. Jackson    15\n",
       "                     ..\n",
       "Leslie Bibb           1\n",
       "Leonard Nimoy         1\n",
       "Lennie James          1\n",
       "Lena Olin             1\n",
       "50 Cent               1\n",
       "Name: original_title, Length: 1505, dtype: int64"
      ]
     },
     "execution_count": 24,
     "metadata": {},
     "output_type": "execute_result"
    }
   ],
   "source": [
    "data_cast_hight = data_1cast[(data_1cast.budget > data_1cast.budget.mean())]\n",
    "data_cast_hight.groupby('cast')['original_title'].count().sort_values(ascending=False)"
   ]
  },
  {
   "cell_type": "markdown",
   "metadata": {
    "colab_type": "text",
    "id": "NIh6AaW5Vp_n"
   },
   "source": [
    "# 17. В фильмах какого жанра больше всего снимался Nicolas Cage? "
   ]
  },
  {
   "cell_type": "code",
   "execution_count": null,
   "metadata": {},
   "outputs": [],
   "source": [
    "answers[17] = 'Action'"
   ]
  },
  {
   "cell_type": "code",
   "execution_count": 8,
   "metadata": {
    "colab": {},
    "colab_type": "code",
    "collapsed": true,
    "id": "H74SJDIBVp_n"
   },
   "outputs": [
    {
     "ename": "AttributeError",
     "evalue": "'DataFrame' object has no attribute 'explode'",
     "output_type": "error",
     "traceback": [
      "\u001b[1;31m---------------------------------------------------------------------------\u001b[0m",
      "\u001b[1;31mAttributeError\u001b[0m                            Traceback (most recent call last)",
      "\u001b[1;32m<ipython-input-8-c6c2b37f90b3>\u001b[0m in \u001b[0;36m<module>\u001b[1;34m()\u001b[0m\n\u001b[0;32m      1\u001b[0m \u001b[0mdata_1cast_1gen\u001b[0m\u001b[1;33m=\u001b[0m\u001b[0mdata\u001b[0m\u001b[1;33m.\u001b[0m\u001b[0mcopy\u001b[0m\u001b[1;33m(\u001b[0m\u001b[1;33m)\u001b[0m\u001b[1;33m\u001b[0m\u001b[0m\n\u001b[0;32m      2\u001b[0m \u001b[0mdata_1cast_1gen\u001b[0m\u001b[1;33m.\u001b[0m\u001b[0mcast\u001b[0m\u001b[1;33m=\u001b[0m\u001b[0mdata_1cast_1gen\u001b[0m\u001b[1;33m.\u001b[0m\u001b[0mcast\u001b[0m\u001b[1;33m.\u001b[0m\u001b[0mstr\u001b[0m\u001b[1;33m.\u001b[0m\u001b[0msplit\u001b[0m\u001b[1;33m(\u001b[0m\u001b[1;34m'|'\u001b[0m\u001b[1;33m)\u001b[0m\u001b[1;33m\u001b[0m\u001b[0m\n\u001b[1;32m----> 3\u001b[1;33m \u001b[0mdata_1cast_1gen\u001b[0m\u001b[1;33m=\u001b[0m\u001b[0mdata_1cast_1gen\u001b[0m\u001b[1;33m.\u001b[0m\u001b[0mexplode\u001b[0m\u001b[1;33m(\u001b[0m\u001b[1;34m'cast'\u001b[0m\u001b[1;33m)\u001b[0m\u001b[1;33m\u001b[0m\u001b[0m\n\u001b[0m\u001b[0;32m      4\u001b[0m \u001b[0mdata_1cast_1gen\u001b[0m\u001b[1;33m.\u001b[0m\u001b[0mgenres\u001b[0m\u001b[1;33m=\u001b[0m\u001b[0mdata_1cast_1gen\u001b[0m\u001b[1;33m.\u001b[0m\u001b[0mgenres\u001b[0m\u001b[1;33m.\u001b[0m\u001b[0mstr\u001b[0m\u001b[1;33m.\u001b[0m\u001b[0msplit\u001b[0m\u001b[1;33m(\u001b[0m\u001b[1;34m'|'\u001b[0m\u001b[1;33m)\u001b[0m\u001b[1;33m\u001b[0m\u001b[0m\n\u001b[0;32m      5\u001b[0m \u001b[0mdata_1cast_1gen\u001b[0m\u001b[1;33m=\u001b[0m\u001b[0mdata_1cast_1gen\u001b[0m\u001b[1;33m.\u001b[0m\u001b[0mexplode\u001b[0m\u001b[1;33m(\u001b[0m\u001b[1;34m'genres'\u001b[0m\u001b[1;33m)\u001b[0m\u001b[1;33m\u001b[0m\u001b[0m\n",
      "\u001b[1;32m~\\Anaconda3\\lib\\site-packages\\pandas\\core\\generic.py\u001b[0m in \u001b[0;36m__getattr__\u001b[1;34m(self, name)\u001b[0m\n\u001b[0;32m   4374\u001b[0m             \u001b[1;32mif\u001b[0m \u001b[0mself\u001b[0m\u001b[1;33m.\u001b[0m\u001b[0m_info_axis\u001b[0m\u001b[1;33m.\u001b[0m\u001b[0m_can_hold_identifiers_and_holds_name\u001b[0m\u001b[1;33m(\u001b[0m\u001b[0mname\u001b[0m\u001b[1;33m)\u001b[0m\u001b[1;33m:\u001b[0m\u001b[1;33m\u001b[0m\u001b[0m\n\u001b[0;32m   4375\u001b[0m                 \u001b[1;32mreturn\u001b[0m \u001b[0mself\u001b[0m\u001b[1;33m[\u001b[0m\u001b[0mname\u001b[0m\u001b[1;33m]\u001b[0m\u001b[1;33m\u001b[0m\u001b[0m\n\u001b[1;32m-> 4376\u001b[1;33m             \u001b[1;32mreturn\u001b[0m \u001b[0mobject\u001b[0m\u001b[1;33m.\u001b[0m\u001b[0m__getattribute__\u001b[0m\u001b[1;33m(\u001b[0m\u001b[0mself\u001b[0m\u001b[1;33m,\u001b[0m \u001b[0mname\u001b[0m\u001b[1;33m)\u001b[0m\u001b[1;33m\u001b[0m\u001b[0m\n\u001b[0m\u001b[0;32m   4377\u001b[0m \u001b[1;33m\u001b[0m\u001b[0m\n\u001b[0;32m   4378\u001b[0m     \u001b[1;32mdef\u001b[0m \u001b[0m__setattr__\u001b[0m\u001b[1;33m(\u001b[0m\u001b[0mself\u001b[0m\u001b[1;33m,\u001b[0m \u001b[0mname\u001b[0m\u001b[1;33m,\u001b[0m \u001b[0mvalue\u001b[0m\u001b[1;33m)\u001b[0m\u001b[1;33m:\u001b[0m\u001b[1;33m\u001b[0m\u001b[0m\n",
      "\u001b[1;31mAttributeError\u001b[0m: 'DataFrame' object has no attribute 'explode'"
     ]
    }
   ],
   "source": [
    "data_1cast_1gen = data_1cast.copy()\n",
    "data_1cast_1gen.genres = data_1cast_1gen.genres.str.split('|')\n",
    "data_1cast_1gen = data_1cast_1gen.explode('genres')\n",
    "data_cage = data_1cast_1gen[(data_1cast_1gen.cast == 'Nicolas Cage')]\n",
    "data_cage['genres'].value_counts()"
   ]
  },
  {
   "cell_type": "markdown",
   "metadata": {
    "colab_type": "text",
    "id": "RqOmPRfWVp_q"
   },
   "source": [
    "# 18. Самый убыточный фильм от Paramount Pictures"
   ]
  },
  {
   "cell_type": "code",
   "execution_count": null,
   "metadata": {},
   "outputs": [],
   "source": [
    "answers[18] = 'K-19: The Widowmaker'"
   ]
  },
  {
   "cell_type": "code",
   "execution_count": 9,
   "metadata": {
    "colab": {},
    "colab_type": "code",
    "collapsed": true,
    "id": "9E_B0Y96Vp_r"
   },
   "outputs": [
    {
     "ename": "AttributeError",
     "evalue": "'DataFrame' object has no attribute 'explode'",
     "output_type": "error",
     "traceback": [
      "\u001b[1;31m---------------------------------------------------------------------------\u001b[0m",
      "\u001b[1;31mAttributeError\u001b[0m                            Traceback (most recent call last)",
      "\u001b[1;32m<ipython-input-9-22936f26cf67>\u001b[0m in \u001b[0;36m<module>\u001b[1;34m()\u001b[0m\n\u001b[0;32m      1\u001b[0m \u001b[0mdata1_title_company\u001b[0m\u001b[1;33m=\u001b[0m\u001b[0mdata\u001b[0m\u001b[1;33m.\u001b[0m\u001b[0mcopy\u001b[0m\u001b[1;33m(\u001b[0m\u001b[1;33m)\u001b[0m\u001b[1;33m\u001b[0m\u001b[0m\n\u001b[0;32m      2\u001b[0m \u001b[0mdata1_title_company\u001b[0m\u001b[1;33m.\u001b[0m\u001b[0mproduction_companies\u001b[0m\u001b[1;33m=\u001b[0m\u001b[0mdata1_title_company\u001b[0m\u001b[1;33m.\u001b[0m\u001b[0mproduction_companies\u001b[0m\u001b[1;33m.\u001b[0m\u001b[0mstr\u001b[0m\u001b[1;33m.\u001b[0m\u001b[0msplit\u001b[0m\u001b[1;33m(\u001b[0m\u001b[1;34m'|'\u001b[0m\u001b[1;33m)\u001b[0m\u001b[1;33m\u001b[0m\u001b[0m\n\u001b[1;32m----> 3\u001b[1;33m \u001b[0mdata1_title_company\u001b[0m\u001b[1;33m=\u001b[0m\u001b[0mdata1_title_company\u001b[0m\u001b[1;33m.\u001b[0m\u001b[0mexplode\u001b[0m\u001b[1;33m(\u001b[0m\u001b[1;34m'production_companies'\u001b[0m\u001b[1;33m)\u001b[0m\u001b[1;33m\u001b[0m\u001b[0m\n\u001b[0m\u001b[0;32m      4\u001b[0m \u001b[0mPP\u001b[0m\u001b[1;33m=\u001b[0m\u001b[0mdata1_title_company\u001b[0m\u001b[1;33m[\u001b[0m\u001b[1;33m(\u001b[0m\u001b[0mdata1_title_company\u001b[0m\u001b[1;33m.\u001b[0m\u001b[0mproduction_companies\u001b[0m \u001b[1;33m==\u001b[0m \u001b[1;34m'Paramount Pictures'\u001b[0m\u001b[1;33m)\u001b[0m\u001b[1;33m]\u001b[0m\u001b[1;33m\u001b[0m\u001b[0m\n\u001b[0;32m      5\u001b[0m \u001b[0mPP\u001b[0m\u001b[1;33m[\u001b[0m\u001b[1;33m(\u001b[0m\u001b[0mPP\u001b[0m\u001b[1;33m.\u001b[0m\u001b[0mprofit\u001b[0m \u001b[1;33m==\u001b[0m \u001b[0mPP\u001b[0m\u001b[1;33m.\u001b[0m\u001b[0mprofit\u001b[0m\u001b[1;33m.\u001b[0m\u001b[0mmin\u001b[0m\u001b[1;33m(\u001b[0m\u001b[1;33m)\u001b[0m\u001b[1;33m)\u001b[0m\u001b[1;33m]\u001b[0m\u001b[1;33m\u001b[0m\u001b[0m\n",
      "\u001b[1;32m~\\Anaconda3\\lib\\site-packages\\pandas\\core\\generic.py\u001b[0m in \u001b[0;36m__getattr__\u001b[1;34m(self, name)\u001b[0m\n\u001b[0;32m   4374\u001b[0m             \u001b[1;32mif\u001b[0m \u001b[0mself\u001b[0m\u001b[1;33m.\u001b[0m\u001b[0m_info_axis\u001b[0m\u001b[1;33m.\u001b[0m\u001b[0m_can_hold_identifiers_and_holds_name\u001b[0m\u001b[1;33m(\u001b[0m\u001b[0mname\u001b[0m\u001b[1;33m)\u001b[0m\u001b[1;33m:\u001b[0m\u001b[1;33m\u001b[0m\u001b[0m\n\u001b[0;32m   4375\u001b[0m                 \u001b[1;32mreturn\u001b[0m \u001b[0mself\u001b[0m\u001b[1;33m[\u001b[0m\u001b[0mname\u001b[0m\u001b[1;33m]\u001b[0m\u001b[1;33m\u001b[0m\u001b[0m\n\u001b[1;32m-> 4376\u001b[1;33m             \u001b[1;32mreturn\u001b[0m \u001b[0mobject\u001b[0m\u001b[1;33m.\u001b[0m\u001b[0m__getattribute__\u001b[0m\u001b[1;33m(\u001b[0m\u001b[0mself\u001b[0m\u001b[1;33m,\u001b[0m \u001b[0mname\u001b[0m\u001b[1;33m)\u001b[0m\u001b[1;33m\u001b[0m\u001b[0m\n\u001b[0m\u001b[0;32m   4377\u001b[0m \u001b[1;33m\u001b[0m\u001b[0m\n\u001b[0;32m   4378\u001b[0m     \u001b[1;32mdef\u001b[0m \u001b[0m__setattr__\u001b[0m\u001b[1;33m(\u001b[0m\u001b[0mself\u001b[0m\u001b[1;33m,\u001b[0m \u001b[0mname\u001b[0m\u001b[1;33m,\u001b[0m \u001b[0mvalue\u001b[0m\u001b[1;33m)\u001b[0m\u001b[1;33m:\u001b[0m\u001b[1;33m\u001b[0m\u001b[0m\n",
      "\u001b[1;31mAttributeError\u001b[0m: 'DataFrame' object has no attribute 'explode'"
     ]
    }
   ],
   "source": [
    "PP = data_1company[(data_1company.production_companies == 'Paramount Pictures')]\n",
    "PP[(PP.profit == PP.profit.min())]"
   ]
  },
  {
   "cell_type": "markdown",
   "metadata": {
    "colab_type": "text",
    "id": "vS8Ur6ddVp_u"
   },
   "source": [
    "# 19. Какой год стал самым успешным по суммарным кассовым сборам?"
   ]
  },
  {
   "cell_type": "code",
   "execution_count": null,
   "metadata": {},
   "outputs": [],
   "source": [
    "answers[19] = '2015'"
   ]
  },
  {
   "cell_type": "code",
   "execution_count": 180,
   "metadata": {
    "colab": {},
    "colab_type": "code",
    "collapsed": true,
    "id": "Dnbt4GdIVp_v"
   },
   "outputs": [
    {
     "data": {
      "text/plain": [
       "release_year\n",
       "2015    25449202382\n",
       "2014    23405862953\n",
       "2013    23213799791\n",
       "2012    23079001687\n",
       "2011    22676791872\n",
       "2010    21071204961\n",
       "2009    20261791024\n",
       "2008    18252781990\n",
       "2007    18162406801\n",
       "2004    15663430720\n",
       "2005    15309425558\n",
       "2006    14775042320\n",
       "2003    14346123312\n",
       "2002    14136361487\n",
       "2001    13017764865\n",
       "2000    10664099805\n",
       "Name: revenue, dtype: int64"
      ]
     },
     "execution_count": 180,
     "metadata": {},
     "output_type": "execute_result"
    }
   ],
   "source": [
    "data_rev = data.copy()\n",
    "data_rev.groupby('release_year')['revenue'].sum().sort_values(ascending=False)"
   ]
  },
  {
   "cell_type": "markdown",
   "metadata": {
    "colab_type": "text",
    "id": "JAzJh4QAVp_z"
   },
   "source": [
    "# 20. Какой самый прибыльный год для студии Warner Bros?"
   ]
  },
  {
   "cell_type": "code",
   "execution_count": null,
   "metadata": {},
   "outputs": [],
   "source": [
    "answers[20] = '2014'"
   ]
  },
  {
   "cell_type": "code",
   "execution_count": null,
   "metadata": {
    "colab": {},
    "colab_type": "code",
    "id": "wgVu02DEVp_0"
   },
   "outputs": [],
   "source": [
    "data_warner = data.copy()\n",
    "\n",
    "data_warner.production_companies=data_warner.production_companies.str.split('|')\n",
    "data_warner = data_warner.explode('production_companies')\n",
    "data_warner = data_warner[(data_warner.production_companies.str.contains('Warner Bros', na=False))]\n",
    "                         \n",
    "data_warner.groupby('release_year')['profit'].sum().sort_values(ascending=False)"
   ]
  },
  {
   "cell_type": "markdown",
   "metadata": {
    "colab_type": "text",
    "id": "8Im1S2HRVp_4"
   },
   "source": [
    "# 21. В каком месяце за все годы суммарно вышло больше всего фильмов?"
   ]
  },
  {
   "cell_type": "code",
   "execution_count": null,
   "metadata": {
    "colab": {},
    "colab_type": "code",
    "id": "lev6TH7gVp_4"
   },
   "outputs": [],
   "source": [
    "answers[21] = 'Сентябрь'"
   ]
  },
  {
   "cell_type": "code",
   "execution_count": 25,
   "metadata": {
    "collapsed": true
   },
   "outputs": [
    {
     "data": {
      "text/plain": [
       "month\n",
       "9     227\n",
       "12    190\n",
       "10    186\n",
       "8     161\n",
       "3     156\n",
       "4     149\n",
       "6     147\n",
       "11    146\n",
       "7     142\n",
       "5     140\n",
       "2     135\n",
       "1     110\n",
       "Name: original_title, dtype: int64"
      ]
     },
     "execution_count": 25,
     "metadata": {},
     "output_type": "execute_result"
    }
   ],
   "source": [
    "data_rel_month.groupby('month')['original_title'].count().sort_values(ascending=False)"
   ]
  },
  {
   "cell_type": "markdown",
   "metadata": {
    "colab_type": "text",
    "id": "uAJsZ_NeVp_7"
   },
   "source": [
    "# 22. Сколько суммарно вышло фильмов летом? (за июнь, июль, август)"
   ]
  },
  {
   "cell_type": "code",
   "execution_count": null,
   "metadata": {},
   "outputs": [],
   "source": [
    "answers[22] = '450'"
   ]
  },
  {
   "cell_type": "code",
   "execution_count": 14,
   "metadata": {
    "colab": {},
    "colab_type": "code",
    "id": "Aa-hEREoVp_8"
   },
   "outputs": [
    {
     "data": {
      "text/plain": [
       "450"
      ]
     },
     "execution_count": 14,
     "metadata": {},
     "output_type": "execute_result"
    }
   ],
   "source": [
    "summ = data_rel_month[(data_rel_month.month > 5) & (data_rel_month.month < 9)]\n",
    "summ.original_title.count()"
   ]
  },
  {
   "cell_type": "markdown",
   "metadata": {
    "colab_type": "text",
    "id": "G94ppOY1VqAA"
   },
   "source": [
    "# 23. Для какого режиссера зима – самое продуктивное время года? "
   ]
  },
  {
   "cell_type": "code",
   "execution_count": null,
   "metadata": {},
   "outputs": [],
   "source": [
    "answers[23] = 'Peter Jackson'"
   ]
  },
  {
   "cell_type": "code",
   "execution_count": 131,
   "metadata": {
    "colab": {},
    "colab_type": "code",
    "collapsed": true,
    "id": "RhNTsamuVqAB"
   },
   "outputs": [
    {
     "data": {
      "text/plain": [
       "director\n",
       "Peter Jackson            7\n",
       "Steven Soderbergh        6\n",
       "Clint Eastwood           6\n",
       "Martin Scorsese          4\n",
       "Adam Shankman            4\n",
       "                        ..\n",
       "Matt Bettinelli-Olpin    1\n",
       "Matt Reeves              1\n",
       "Matthew O'Callaghan      1\n",
       "Matthew Vaughn           1\n",
       "Jon Avnet                1\n",
       "Name: original_title, Length: 358, dtype: int64"
      ]
     },
     "execution_count": 131,
     "metadata": {},
     "output_type": "execute_result"
    }
   ],
   "source": [
    "data_1bos['release_date'] = pd.to_datetime(data_1bos['release_date'])\n",
    "data_1bos['month'] = data_1bos['release_date'].dt.month\n",
    "data_1bos = data_1bos[(data_1bos.month < 3 )|(data_1bos.month == 12) ]\n",
    "data_1bos.groupby('director')['original_title'].count().sort_values(ascending=False)"
   ]
  },
  {
   "cell_type": "markdown",
   "metadata": {
    "colab_type": "text",
    "id": "RBo0JVjVVqAF"
   },
   "source": [
    "# 24. Какая студия дает самые длинные названия своим фильмам по количеству символов?"
   ]
  },
  {
   "cell_type": "code",
   "execution_count": null,
   "metadata": {},
   "outputs": [],
   "source": [
    "answers[24] = 'Four By Two Productions'"
   ]
  },
  {
   "cell_type": "code",
   "execution_count": 145,
   "metadata": {
    "colab": {},
    "colab_type": "code",
    "id": "QRGS8L0iVqAG"
   },
   "outputs": [
    {
     "data": {
      "text/plain": [
       "Four By Two Productions      83.0\n",
       "Jim Henson Company, The      59.0\n",
       "Dos Corazones                47.0\n",
       "Museum Canada Productions    46.0\n",
       "Polsky Films                 46.0\n",
       "dtype: float64"
      ]
     },
     "execution_count": 145,
     "metadata": {},
     "output_type": "execute_result"
    }
   ],
   "source": [
    "data_prodcom = data.copy()\n",
    "data_prodcom['len_title'] = data_prodcom['original_title'].map(lambda x: len(x))\n",
    "\n",
    "companies = data_prodcom['production_companies'].str.split('|').explode().unique()\n",
    "\n",
    "sum_gen = pd.Series(dtype='float64', index=companies)\n",
    "for comp in companies:\n",
    "    sum_gen[comp] = data_prodcom['len_title'][data_prodcom['production_companies'].map(lambda x: True if comp in x else False)].mean()\n",
    "sum_gen.sort_values(ascending=False).head()\n"
   ]
  },
  {
   "cell_type": "markdown",
   "metadata": {
    "colab_type": "text",
    "id": "9G0hbvR7VqAK"
   },
   "source": [
    "# 25. Описание фильмов какой студии в среднем самые длинные по количеству слов?"
   ]
  },
  {
   "cell_type": "code",
   "execution_count": null,
   "metadata": {},
   "outputs": [],
   "source": [
    "answers[25] = 'Universal Pictures'"
   ]
  },
  {
   "cell_type": "code",
   "execution_count": 21,
   "metadata": {
    "collapsed": true
   },
   "outputs": [
    {
     "ename": "AttributeError",
     "evalue": "'DataFrame' object has no attribute 'explode'",
     "output_type": "error",
     "traceback": [
      "\u001b[1;31m---------------------------------------------------------------------------\u001b[0m",
      "\u001b[1;31mAttributeError\u001b[0m                            Traceback (most recent call last)",
      "\u001b[1;32m<ipython-input-21-dfbfb5a3c091>\u001b[0m in \u001b[0;36m<module>\u001b[1;34m()\u001b[0m\n\u001b[0;32m      3\u001b[0m \u001b[1;33m\u001b[0m\u001b[0m\n\u001b[0;32m      4\u001b[0m \u001b[0mdata_tag\u001b[0m\u001b[1;33m.\u001b[0m\u001b[0mproduction_companies\u001b[0m\u001b[1;33m=\u001b[0m\u001b[0mdata_tag\u001b[0m\u001b[1;33m.\u001b[0m\u001b[0mproduction_companies\u001b[0m\u001b[1;33m.\u001b[0m\u001b[0mstr\u001b[0m\u001b[1;33m.\u001b[0m\u001b[0msplit\u001b[0m\u001b[1;33m(\u001b[0m\u001b[1;34m'|'\u001b[0m\u001b[1;33m)\u001b[0m\u001b[1;33m\u001b[0m\u001b[0m\n\u001b[1;32m----> 5\u001b[1;33m \u001b[0mdata_tag\u001b[0m\u001b[1;33m=\u001b[0m\u001b[0mdata_tag\u001b[0m\u001b[1;33m.\u001b[0m\u001b[0mexplode\u001b[0m\u001b[1;33m(\u001b[0m\u001b[1;34m'production_companies'\u001b[0m\u001b[1;33m)\u001b[0m\u001b[1;33m\u001b[0m\u001b[0m\n\u001b[0m\u001b[0;32m      6\u001b[0m \u001b[1;33m\u001b[0m\u001b[0m\n\u001b[0;32m      7\u001b[0m \u001b[0mdata_tag\u001b[0m\u001b[1;33m=\u001b[0m\u001b[0mdata_tag\u001b[0m\u001b[1;33m[\u001b[0m\u001b[1;33m(\u001b[0m\u001b[0mdata_tag\u001b[0m\u001b[1;33m.\u001b[0m\u001b[0mtag_len\u001b[0m \u001b[1;33m>=\u001b[0m \u001b[0mdata_tag\u001b[0m\u001b[1;33m.\u001b[0m\u001b[0mtag_len\u001b[0m\u001b[1;33m.\u001b[0m\u001b[0mmean\u001b[0m\u001b[1;33m(\u001b[0m\u001b[1;33m)\u001b[0m\u001b[1;33m)\u001b[0m\u001b[1;33m]\u001b[0m\u001b[1;33m\u001b[0m\u001b[0m\n",
      "\u001b[1;32m~\\Anaconda3\\lib\\site-packages\\pandas\\core\\generic.py\u001b[0m in \u001b[0;36m__getattr__\u001b[1;34m(self, name)\u001b[0m\n\u001b[0;32m   4374\u001b[0m             \u001b[1;32mif\u001b[0m \u001b[0mself\u001b[0m\u001b[1;33m.\u001b[0m\u001b[0m_info_axis\u001b[0m\u001b[1;33m.\u001b[0m\u001b[0m_can_hold_identifiers_and_holds_name\u001b[0m\u001b[1;33m(\u001b[0m\u001b[0mname\u001b[0m\u001b[1;33m)\u001b[0m\u001b[1;33m:\u001b[0m\u001b[1;33m\u001b[0m\u001b[0m\n\u001b[0;32m   4375\u001b[0m                 \u001b[1;32mreturn\u001b[0m \u001b[0mself\u001b[0m\u001b[1;33m[\u001b[0m\u001b[0mname\u001b[0m\u001b[1;33m]\u001b[0m\u001b[1;33m\u001b[0m\u001b[0m\n\u001b[1;32m-> 4376\u001b[1;33m             \u001b[1;32mreturn\u001b[0m \u001b[0mobject\u001b[0m\u001b[1;33m.\u001b[0m\u001b[0m__getattribute__\u001b[0m\u001b[1;33m(\u001b[0m\u001b[0mself\u001b[0m\u001b[1;33m,\u001b[0m \u001b[0mname\u001b[0m\u001b[1;33m)\u001b[0m\u001b[1;33m\u001b[0m\u001b[0m\n\u001b[0m\u001b[0;32m   4377\u001b[0m \u001b[1;33m\u001b[0m\u001b[0m\n\u001b[0;32m   4378\u001b[0m     \u001b[1;32mdef\u001b[0m \u001b[0m__setattr__\u001b[0m\u001b[1;33m(\u001b[0m\u001b[0mself\u001b[0m\u001b[1;33m,\u001b[0m \u001b[0mname\u001b[0m\u001b[1;33m,\u001b[0m \u001b[0mvalue\u001b[0m\u001b[1;33m)\u001b[0m\u001b[1;33m:\u001b[0m\u001b[1;33m\u001b[0m\u001b[0m\n",
      "\u001b[1;31mAttributeError\u001b[0m: 'DataFrame' object has no attribute 'explode'"
     ]
    }
   ],
   "source": [
    "data_tag=data_1company.copy()\n",
    "data_tag['tag_len']=data_tag['tagline'].apply(howord)\n",
    "data_tag=data_tag[(data_tag.tag_len >= data_tag.tag_len.mean())]\n",
    "Counter(data_tag['production_companies']).most_common(7)"
   ]
  },
  {
   "cell_type": "markdown",
   "metadata": {
    "colab_type": "text",
    "id": "FJ1AFt90VqAP"
   },
   "source": [
    "# 26. Какие фильмы входят в 1 процент лучших по рейтингу? \n",
    "по vote_average"
   ]
  },
  {
   "cell_type": "code",
   "execution_count": null,
   "metadata": {
    "colab": {},
    "colab_type": "code",
    "id": "8qmJVq4CVqAQ"
   },
   "outputs": [],
   "source": [
    "answers[26] = 'Inside Out, The Dark Knight, 12 Years a Slave'"
   ]
  },
  {
   "cell_type": "code",
   "execution_count": 85,
   "metadata": {
    "collapsed": true
   },
   "outputs": [
    {
     "data": {
      "text/plain": [
       "9                                              Inside Out\n",
       "28                                              Spotlight\n",
       "34                                                   Room\n",
       "118                                          Interstellar\n",
       "119                               Guardians of the Galaxy\n",
       "124                                            Big Hero 6\n",
       "125                                    The Imitation Game\n",
       "128                                             Gone Girl\n",
       "138                              The Grand Budapest Hotel\n",
       "155                              The Theory of Everything\n",
       "177                                The Fault in Our Stars\n",
       "283                                            Mr. Nobody\n",
       "316                                              3 Idiots\n",
       "370                                             Inception\n",
       "496     The Lord of the Rings: The Fellowship of the Ring\n",
       "599                                       The Dark Knight\n",
       "863                 The Lord of the Rings: The Two Towers\n",
       "872                                           The Pianist\n",
       "1081        The Lord of the Rings: The Return of the King\n",
       "1183                              The Wolf of Wall Street\n",
       "1188                                                  Her\n",
       "1191                                     12 Years a Slave\n",
       "1205                                            Prisoners\n",
       "1213                                   Dallas Buyers Club\n",
       "1444                                         The Prestige\n",
       "1563                Eternal Sunshine of the Spotless Mind\n",
       "1688                                  There Will Be Blood\n",
       "1800                                              Memento\n",
       "Name: original_title, dtype: object"
      ]
     },
     "execution_count": 85,
     "metadata": {},
     "output_type": "execute_result"
    }
   ],
   "source": [
    "data['vote_average'].sort_values(ascending=False).head(19) #1% это 19 штук самых рейтинговых фильмов и их рейтинг 7.8-8.1\n",
    "\n",
    "best = data[(data['vote_average'] >= 7.8)] #поэтому такая конструкция\n",
    "best.original_title #это вся куча,из неё отбирала,а что делать?"
   ]
  },
  {
   "cell_type": "markdown",
   "metadata": {
    "colab_type": "text",
    "id": "MdXsUXbCVqAV"
   },
   "source": [
    "# 27. Какие актеры чаще всего снимаются в одном фильме вместе?\n"
   ]
  },
  {
   "cell_type": "code",
   "execution_count": 183,
   "metadata": {},
   "outputs": [],
   "source": [
    "answers[27] = 'Daniel Radcliffe & Rupert Grint'"
   ]
  },
  {
   "cell_type": "code",
   "execution_count": 109,
   "metadata": {},
   "outputs": [
    {
     "data": {
      "text/plain": [
       "[(('Daniel Radcliffe', 'Rupert Grint'), 8),\n",
       " (('Daniel Radcliffe', 'Emma Watson'), 8),\n",
       " (('Rupert Grint', 'Emma Watson'), 7),\n",
       " (('Ben Stiller', 'Owen Wilson'), 6),\n",
       " (('Johnny Depp', 'Helena Bonham Carter'), 6)]"
      ]
     },
     "execution_count": 109,
     "metadata": {},
     "output_type": "execute_result"
    }
   ],
   "source": [
    "data27 = data.copy()\n",
    "data27['cast_split'] = data27['cast'].str.split('|')\n",
    "data27['cast_cortege'] = data27.cast_split.apply(lambda x: list(combinations(x, 2)))\n",
    "spis = data27.cast_cortege.tolist()\n",
    "f = list(chain(*spis))\n",
    "Counter(f).most_common(5)"
   ]
  },
  {
   "cell_type": "markdown",
   "metadata": {
    "colab_type": "text",
    "id": "U0nONFnGVqAX"
   },
   "source": [
    "# Submission"
   ]
  },
  {
   "cell_type": "code",
   "execution_count": 35,
   "metadata": {
    "colab": {},
    "colab_type": "code",
    "collapsed": true,
    "id": "IfcaRO9-VqAX",
    "outputId": "0f132912-32bb-4196-c98c-abfbc4ad5a5f"
   },
   "outputs": [
    {
     "ename": "NameError",
     "evalue": "name 'answers' is not defined",
     "output_type": "error",
     "traceback": [
      "\u001b[1;31m---------------------------------------------------------------------------\u001b[0m",
      "\u001b[1;31mNameError\u001b[0m                                 Traceback (most recent call last)",
      "\u001b[1;32m<ipython-input-35-933f397ed121>\u001b[0m in \u001b[0;36m<module>\u001b[1;34m()\u001b[0m\n\u001b[0;32m      1\u001b[0m \u001b[1;31m# в конце можно посмотреть свои ответы к каждому вопросу\u001b[0m\u001b[1;33m\u001b[0m\u001b[1;33m\u001b[0m\u001b[0m\n\u001b[1;32m----> 2\u001b[1;33m \u001b[0manswers\u001b[0m\u001b[1;33m[\u001b[0m\u001b[1;36m6\u001b[0m\u001b[1;33m]\u001b[0m\u001b[1;33m\u001b[0m\u001b[0m\n\u001b[0m",
      "\u001b[1;31mNameError\u001b[0m: name 'answers' is not defined"
     ]
    }
   ],
   "source": [
    "# в конце можно посмотреть свои ответы к каждому вопросу\n",
    "answers[6]"
   ]
  },
  {
   "cell_type": "code",
   "execution_count": 67,
   "metadata": {
    "colab": {},
    "colab_type": "code",
    "id": "SiRmHPl8VqAd"
   },
   "outputs": [
    {
     "data": {
      "text/plain": [
       "27"
      ]
     },
     "execution_count": 67,
     "metadata": {},
     "output_type": "execute_result"
    }
   ],
   "source": [
    "# и убедиться что ни чего не пропустил)\n",
    "len(answers)"
   ]
  },
  {
   "cell_type": "code",
   "execution_count": null,
   "metadata": {
    "colab": {},
    "colab_type": "code",
    "id": "Vwx3NrkSVqAl"
   },
   "outputs": [],
   "source": []
  }
 ],
 "metadata": {
  "colab": {
   "name": "Copy of [SF-DST] Movies IMBD v4.1 TEMPLATE.ipynb",
   "provenance": []
  },
  "kernelspec": {
   "display_name": "Python 3",
   "language": "python",
   "name": "python3"
  },
  "language_info": {
   "codemirror_mode": {
    "name": "ipython",
    "version": 3
   },
   "file_extension": ".py",
   "mimetype": "text/x-python",
   "name": "python",
   "nbconvert_exporter": "python",
   "pygments_lexer": "ipython3",
   "version": "3.7.0"
  }
 },
 "nbformat": 4,
 "nbformat_minor": 1
}
