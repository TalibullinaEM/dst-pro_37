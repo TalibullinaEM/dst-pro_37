{
 "cells": [
  {
   "cell_type": "code",
   "execution_count": 8,
   "metadata": {},
   "outputs": [
    {
     "name": "stdout",
     "output_type": "stream",
     "text": [
      "Ваш алгоритм угадывает число в среднем за 7 попыток\n"
     ]
    },
    {
     "data": {
      "text/plain": [
       "7"
      ]
     },
     "execution_count": 8,
     "metadata": {},
     "output_type": "execute_result"
    }
   ],
   "source": [
    "import numpy as np\n",
    "\n",
    "\n",
    "def guess_number(number):\n",
    "    \"\"\"Функция,которая угадывает загаданное число (number)\n",
    "    и возвращает количество попыток \"\"\"    \n",
    "    x=1\n",
    "    y=101\n",
    "    predict = np.random.randint(1,101)\n",
    "    count=1\n",
    "    while number != predict:\n",
    "       \n",
    "        if number > predict:\n",
    "            x=predict+1\n",
    "            predict = np.random.randint(x,y)\n",
    "            count+=1\n",
    "           \n",
    "        elif number < predict :\n",
    "            y=predict\n",
    "            predict = np.random.randint(x,y)\n",
    "            count+=1 \n",
    "     \n",
    "    return count\n",
    "        \n",
    "# это уже готовая  функция,вычисляет среднее количество попыток за 1000 раз\n",
    "    \n",
    "def score_game(guess_number):\n",
    "    \"\"\"Запускаем игру 1000 раз, чтобы узнать, как быстро игра угадывает число\"\"\"\n",
    "    count_ls = []\n",
    "    np.random.seed(1)  # фиксируем RANDOM SEED, чтобы ваш эксперимент был воспроизводим!\n",
    "    random_array = np.random.randint(1,101, size=(1000))\n",
    "    for number in random_array:\n",
    "        count_ls.append(guess_number(number))\n",
    "    score = int(np.mean(count_ls))\n",
    "    print(f\"Ваш алгоритм угадывает число в среднем за {score} попыток\")\n",
    "    return(score)\n",
    "\n",
    "# теперь само вычисление среднего количества попыток угадывания в моём коде\n",
    "\n",
    "score_game(guess_number)\n",
    " "
   ]
  },
  {
   "cell_type": "code",
   "execution_count": null,
   "metadata": {},
   "outputs": [],
   "source": []
  }
 ],
 "metadata": {
  "kernelspec": {
   "display_name": "Python 3",
   "language": "python",
   "name": "python3"
  },
  "language_info": {
   "codemirror_mode": {
    "name": "ipython",
    "version": 3
   },
   "file_extension": ".py",
   "mimetype": "text/x-python",
   "name": "python",
   "nbconvert_exporter": "python",
   "pygments_lexer": "ipython3",
   "version": "3.7.0"
  }
 },
 "nbformat": 4,
 "nbformat_minor": 2
}
